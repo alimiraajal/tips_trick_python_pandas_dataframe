{
 "cells": [
  {
   "cell_type": "markdown",
   "id": "9441bcbd",
   "metadata": {},
   "source": [
    "# Headings\n",
    "\n",
    "Use the number sign (#) followed by a blank space for notebook titles and section headings:\n",
    "# for titles\n",
    "## for major headings\n",
    "### for subheadings\n",
    "#### for 4th level subheadings"
   ]
  },
  {
   "cell_type": "code",
   "execution_count": null,
   "id": "4c80476d",
   "metadata": {},
   "outputs": [],
   "source": [
    "# Headings\n",
    "\n",
    "Use the number sign (#) followed by a blank space for notebook titles and section headings:\n",
    "# for titles\n",
    "## for major headings\n",
    "### for subheadings\n",
    "#### for 4th level subheadings"
   ]
  },
  {
   "cell_type": "markdown",
   "id": "d8c74d37",
   "metadata": {},
   "source": [
    "# Emphasis\n",
    "\n",
    "Use the following code to emphasize text:\n",
    "\n",
    "Bold text: __string__ or **string**\n",
    "\n",
    "Italic text: _string_ or *string*"
   ]
  },
  {
   "cell_type": "code",
   "execution_count": null,
   "id": "e804ea33",
   "metadata": {},
   "outputs": [],
   "source": [
    "# Emphasis\n",
    "\n",
    "Use the following code to emphasize text:\n",
    "\n",
    "Bold text: __string__ or **string**\n",
    "\n",
    "Italic text: _string_ or *string*"
   ]
  },
  {
   "cell_type": "markdown",
   "id": "dca8247e",
   "metadata": {},
   "source": [
    "$ mathematical symbols $"
   ]
  },
  {
   "cell_type": "code",
   "execution_count": null,
   "id": "e805c157",
   "metadata": {},
   "outputs": [],
   "source": [
    "$ phi $"
   ]
  },
  {
   "cell_type": "markdown",
   "id": "26cfe406",
   "metadata": {},
   "source": [
    "Aku adalah `string` yang di mark"
   ]
  },
  {
   "cell_type": "code",
   "execution_count": null,
   "id": "beb03dea",
   "metadata": {},
   "outputs": [],
   "source": [
    "Aku adalah `string` yang di mark"
   ]
  },
  {
   "cell_type": "markdown",
   "id": "95b0a5e8",
   "metadata": {},
   "source": [
    "> Text that will be indented when the Markdown is rendered."
   ]
  },
  {
   "cell_type": "code",
   "execution_count": null,
   "id": "6c68eae4",
   "metadata": {},
   "outputs": [],
   "source": [
    "> Text that will be indented when the Markdown is rendered."
   ]
  },
  {
   "cell_type": "markdown",
   "id": "d9ef1540",
   "metadata": {},
   "source": [
    "- Main bullet point\n",
    "     - Sub bullet point"
   ]
  },
  {
   "cell_type": "code",
   "execution_count": null,
   "id": "0966a021",
   "metadata": {},
   "outputs": [],
   "source": [
    "- Main bullet point\n",
    "     - Sub bullet point"
   ]
  },
  {
   "cell_type": "markdown",
   "id": "553ab4ad",
   "metadata": {},
   "source": [
    "1. Numbered item\n",
    "1. Numbered item"
   ]
  },
  {
   "cell_type": "code",
   "execution_count": null,
   "id": "6141db06",
   "metadata": {},
   "outputs": [],
   "source": [
    "1. Numbered item\n",
    "1. Numbered item"
   ]
  },
  {
   "cell_type": "markdown",
   "id": "13aba323",
   "metadata": {},
   "source": [
    "1. Numbered item\n",
    "     1. Substep"
   ]
  },
  {
   "cell_type": "code",
   "execution_count": null,
   "id": "7f896c2d",
   "metadata": {},
   "outputs": [],
   "source": [
    "1. Numbered item\n",
    "     1. Substep"
   ]
  },
  {
   "cell_type": "markdown",
   "id": "aefd8184",
   "metadata": {},
   "source": [
    "<div class=\"alert alert-block alert-info\">\n",
    "<b>Tip:</b> Use blue boxes (alert-info) for tips and notes. \n",
    "If it’s a note, you don’t have to include the word “Note”.\n",
    "</div>"
   ]
  },
  {
   "cell_type": "code",
   "execution_count": null,
   "id": "02fa0f11",
   "metadata": {},
   "outputs": [],
   "source": [
    "<div class=\"alert alert-block alert-info\">\n",
    "<b>Tip:</b> Use blue boxes (alert-info) for tips and notes. \n",
    "If it’s a note, you don’t have to include the word “Note”.\n",
    "</div>"
   ]
  },
  {
   "cell_type": "markdown",
   "id": "ce95c868",
   "metadata": {},
   "source": [
    "<div class=\"alert alert-block alert-warning\">\n",
    "<b>Example:</b> Use yellow boxes for examples that are not \n",
    "inside code cells, or use for mathematical formulas if needed.\n",
    "</div>"
   ]
  },
  {
   "cell_type": "code",
   "execution_count": null,
   "id": "e49ca03c",
   "metadata": {},
   "outputs": [],
   "source": [
    "<div class=\"alert alert-block alert-warning\">\n",
    "<b>Example:</b> Use yellow boxes for examples that are not \n",
    "inside code cells, or use for mathematical formulas if needed.\n",
    "</div>"
   ]
  },
  {
   "cell_type": "markdown",
   "id": "1a3ea436",
   "metadata": {},
   "source": [
    "<div class=\"alert alert-block alert-success\">\n",
    "<b>Up to you:</b> Use green boxes sparingly, and only for some specific \n",
    "purpose that the other boxes can't cover. For example, if you have a lot \n",
    "of related content to link to, maybe you decide to use green boxes for \n",
    "related links from each section of a notebook.\n",
    "</div>"
   ]
  },
  {
   "cell_type": "code",
   "execution_count": null,
   "id": "535e0a4a",
   "metadata": {},
   "outputs": [],
   "source": [
    "<div class=\"alert alert-block alert-success\">\n",
    "<b>Up to you:</b> Use green boxes sparingly, and only for some specific \n",
    "purpose that the other boxes can't cover. For example, if you have a lot \n",
    "of related content to link to, maybe you decide to use green boxes for \n",
    "related links from each section of a notebook.\n",
    "</div>"
   ]
  },
  {
   "cell_type": "markdown",
   "id": "fd36220b",
   "metadata": {},
   "source": [
    "<div class=\"alert alert-block alert-danger\">\n",
    "<b>Just don't:</b> In general, avoid the red boxes. These should only be\n",
    "used for actions that might cause data loss or another major issue.\n",
    "</div>"
   ]
  },
  {
   "cell_type": "code",
   "execution_count": null,
   "id": "2e77b734",
   "metadata": {},
   "outputs": [],
   "source": [
    "<div class=\"alert alert-block alert-danger\">\n",
    "<b>Just don't:</b> In general, avoid the red boxes. These should only be\n",
    "used for actions that might cause data loss or another major issue.\n",
    "</div>"
   ]
  },
  {
   "cell_type": "markdown",
   "id": "efa979b8",
   "metadata": {},
   "source": [
    "<img src=\"https://1.cms.s81c.com/sites/default/files/2022-02/security-2_18.jpg\" alt=\"Alt text that describes the graphic\" title=\"Title text\" />"
   ]
  },
  {
   "cell_type": "code",
   "execution_count": null,
   "id": "6201395c",
   "metadata": {},
   "outputs": [],
   "source": [
    "<img src=\"https://1.cms.s81c.com/sites/default/files/2022-02/security-2_18.jpg\" alt=\"Alt text that describes the graphic\" title=\"Title text\" />"
   ]
  },
  {
   "cell_type": "markdown",
   "id": "040e5b9c",
   "metadata": {},
   "source": [
    "&#9632;\\\n",
    "&#9672;\\\n",
    "&#9633;\\\n",
    "&#9634;\\\n",
    "&#9655;"
   ]
  },
  {
   "cell_type": "code",
   "execution_count": null,
   "id": "ca6a370e",
   "metadata": {},
   "outputs": [],
   "source": [
    "&#9632;\\\n",
    "&#9672;\\\n",
    "&#9633;\\\n",
    "&#9634;\\\n",
    "&#9655;"
   ]
  },
  {
   "cell_type": "markdown",
   "id": "a950b552",
   "metadata": {},
   "source": [
    "***"
   ]
  },
  {
   "cell_type": "code",
   "execution_count": null,
   "id": "67cdb89e",
   "metadata": {},
   "outputs": [],
   "source": [
    "***"
   ]
  },
  {
   "cell_type": "markdown",
   "id": "73267c82",
   "metadata": {},
   "source": [
    "[Bullets HTML Unicode](https://www.w3schools.com/charsets/ref_utf_geometric.asp)"
   ]
  },
  {
   "cell_type": "code",
   "execution_count": null,
   "id": "f15b1350",
   "metadata": {},
   "outputs": [],
   "source": [
    "[Bullets HTML Unicode](https://www.w3schools.com/charsets/ref_utf_geometric.asp)"
   ]
  },
  {
   "cell_type": "markdown",
   "id": "e946686e",
   "metadata": {},
   "source": [
    "<a id=\"section_ID\"></a>"
   ]
  },
  {
   "cell_type": "markdown",
   "id": "21bfd310",
   "metadata": {},
   "source": [
    "__[link text](https://www.w3schools.com/charsets/ref_utf_geometric.asp)__"
   ]
  },
  {
   "cell_type": "code",
   "execution_count": null,
   "id": "98e2ae11",
   "metadata": {},
   "outputs": [],
   "source": [
    "__[link text](https://www.w3schools.com/charsets/ref_utf_geometric.asp)__"
   ]
  }
 ],
 "metadata": {
  "kernelspec": {
   "display_name": "Python 3 (ipykernel)",
   "language": "python",
   "name": "python3"
  },
  "language_info": {
   "codemirror_mode": {
    "name": "ipython",
    "version": 3
   },
   "file_extension": ".py",
   "mimetype": "text/x-python",
   "name": "python",
   "nbconvert_exporter": "python",
   "pygments_lexer": "ipython3",
   "version": "3.9.7"
  }
 },
 "nbformat": 4,
 "nbformat_minor": 5
}
