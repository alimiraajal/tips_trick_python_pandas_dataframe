{
 "cells": [
  {
   "cell_type": "markdown",
   "id": "1a3eb7be",
   "metadata": {},
   "source": [
    "# Tips & Trick Pandas Data Frame"
   ]
  },
  {
   "cell_type": "markdown",
   "id": "0f47ecbe",
   "metadata": {},
   "source": [
    "## 11. Melakukan seleksi kolom dan baris pada Data Frame menggunakan .loc"
   ]
  },
  {
   "cell_type": "markdown",
   "id": "171d5efd",
   "metadata": {},
   "source": [
    "### Import Module"
   ]
  },
  {
   "cell_type": "code",
   "execution_count": 1,
   "id": "230cad00",
   "metadata": {},
   "outputs": [],
   "source": [
    "import pandas as pd\n",
    "import numpy as np"
   ]
  },
  {
   "cell_type": "markdown",
   "id": "7b0ac47c",
   "metadata": {},
   "source": [
    "### Persiapan Data Frame"
   ]
  },
  {
   "cell_type": "code",
   "execution_count": 2,
   "id": "b46eb02f",
   "metadata": {},
   "outputs": [
    {
     "data": {
      "text/html": [
       "<div>\n",
       "<style scoped>\n",
       "    .dataframe tbody tr th:only-of-type {\n",
       "        vertical-align: middle;\n",
       "    }\n",
       "\n",
       "    .dataframe tbody tr th {\n",
       "        vertical-align: top;\n",
       "    }\n",
       "\n",
       "    .dataframe thead th {\n",
       "        text-align: right;\n",
       "    }\n",
       "</style>\n",
       "<table border=\"1\" class=\"dataframe\">\n",
       "  <thead>\n",
       "    <tr style=\"text-align: right;\">\n",
       "      <th></th>\n",
       "      <th>A</th>\n",
       "      <th>B</th>\n",
       "      <th>C</th>\n",
       "      <th>D</th>\n",
       "      <th>E</th>\n",
       "    </tr>\n",
       "  </thead>\n",
       "  <tbody>\n",
       "    <tr>\n",
       "      <th>0</th>\n",
       "      <td>15</td>\n",
       "      <td>12</td>\n",
       "      <td>5</td>\n",
       "      <td>15</td>\n",
       "      <td>2</td>\n",
       "    </tr>\n",
       "    <tr>\n",
       "      <th>1</th>\n",
       "      <td>12</td>\n",
       "      <td>2</td>\n",
       "      <td>18</td>\n",
       "      <td>9</td>\n",
       "      <td>11</td>\n",
       "    </tr>\n",
       "    <tr>\n",
       "      <th>2</th>\n",
       "      <td>4</td>\n",
       "      <td>5</td>\n",
       "      <td>16</td>\n",
       "      <td>10</td>\n",
       "      <td>2</td>\n",
       "    </tr>\n",
       "    <tr>\n",
       "      <th>3</th>\n",
       "      <td>15</td>\n",
       "      <td>4</td>\n",
       "      <td>6</td>\n",
       "      <td>17</td>\n",
       "      <td>8</td>\n",
       "    </tr>\n",
       "    <tr>\n",
       "      <th>4</th>\n",
       "      <td>11</td>\n",
       "      <td>12</td>\n",
       "      <td>12</td>\n",
       "      <td>17</td>\n",
       "      <td>12</td>\n",
       "    </tr>\n",
       "    <tr>\n",
       "      <th>5</th>\n",
       "      <td>17</td>\n",
       "      <td>8</td>\n",
       "      <td>5</td>\n",
       "      <td>18</td>\n",
       "      <td>19</td>\n",
       "    </tr>\n",
       "    <tr>\n",
       "      <th>6</th>\n",
       "      <td>10</td>\n",
       "      <td>15</td>\n",
       "      <td>19</td>\n",
       "      <td>4</td>\n",
       "      <td>8</td>\n",
       "    </tr>\n",
       "    <tr>\n",
       "      <th>7</th>\n",
       "      <td>4</td>\n",
       "      <td>18</td>\n",
       "      <td>16</td>\n",
       "      <td>3</td>\n",
       "      <td>3</td>\n",
       "    </tr>\n",
       "    <tr>\n",
       "      <th>8</th>\n",
       "      <td>14</td>\n",
       "      <td>3</td>\n",
       "      <td>13</td>\n",
       "      <td>18</td>\n",
       "      <td>8</td>\n",
       "    </tr>\n",
       "    <tr>\n",
       "      <th>9</th>\n",
       "      <td>3</td>\n",
       "      <td>19</td>\n",
       "      <td>4</td>\n",
       "      <td>14</td>\n",
       "      <td>14</td>\n",
       "    </tr>\n",
       "  </tbody>\n",
       "</table>\n",
       "</div>"
      ],
      "text/plain": [
       "    A   B   C   D   E\n",
       "0  15  12   5  15   2\n",
       "1  12   2  18   9  11\n",
       "2   4   5  16  10   2\n",
       "3  15   4   6  17   8\n",
       "4  11  12  12  17  12\n",
       "5  17   8   5  18  19\n",
       "6  10  15  19   4   8\n",
       "7   4  18  16   3   3\n",
       "8  14   3  13  18   8\n",
       "9   3  19   4  14  14"
      ]
     },
     "execution_count": 2,
     "metadata": {},
     "output_type": "execute_result"
    }
   ],
   "source": [
    "cols = tuple('ABCDE')\n",
    "df = pd.DataFrame(np.random.randint(1, 20, size=(10, 5)),\n",
    "                 columns=cols)\n",
    "df"
   ]
  },
  {
   "cell_type": "markdown",
   "id": "3c32ed79",
   "metadata": {},
   "source": [
    "### Seleksi kolom dan baris menggunakan .loc"
   ]
  },
  {
   "cell_type": "code",
   "execution_count": 3,
   "id": "9580e7c9",
   "metadata": {},
   "outputs": [
    {
     "data": {
      "text/html": [
       "<div>\n",
       "<style scoped>\n",
       "    .dataframe tbody tr th:only-of-type {\n",
       "        vertical-align: middle;\n",
       "    }\n",
       "\n",
       "    .dataframe tbody tr th {\n",
       "        vertical-align: top;\n",
       "    }\n",
       "\n",
       "    .dataframe thead th {\n",
       "        text-align: right;\n",
       "    }\n",
       "</style>\n",
       "<table border=\"1\" class=\"dataframe\">\n",
       "  <thead>\n",
       "    <tr style=\"text-align: right;\">\n",
       "      <th></th>\n",
       "      <th>B</th>\n",
       "      <th>E</th>\n",
       "    </tr>\n",
       "  </thead>\n",
       "  <tbody>\n",
       "    <tr>\n",
       "      <th>0</th>\n",
       "      <td>12</td>\n",
       "      <td>2</td>\n",
       "    </tr>\n",
       "    <tr>\n",
       "      <th>3</th>\n",
       "      <td>4</td>\n",
       "      <td>8</td>\n",
       "    </tr>\n",
       "    <tr>\n",
       "      <th>4</th>\n",
       "      <td>12</td>\n",
       "      <td>12</td>\n",
       "    </tr>\n",
       "  </tbody>\n",
       "</table>\n",
       "</div>"
      ],
      "text/plain": [
       "    B   E\n",
       "0  12   2\n",
       "3   4   8\n",
       "4  12  12"
      ]
     },
     "execution_count": 3,
     "metadata": {},
     "output_type": "execute_result"
    }
   ],
   "source": [
    "df.loc[[0,3,4],['B','E']]"
   ]
  },
  {
   "cell_type": "markdown",
   "id": "06804292",
   "metadata": {},
   "source": [
    "### Seleksi baris dengan kondisi"
   ]
  },
  {
   "cell_type": "code",
   "execution_count": 4,
   "id": "ebddd995",
   "metadata": {},
   "outputs": [
    {
     "data": {
      "text/html": [
       "<div>\n",
       "<style scoped>\n",
       "    .dataframe tbody tr th:only-of-type {\n",
       "        vertical-align: middle;\n",
       "    }\n",
       "\n",
       "    .dataframe tbody tr th {\n",
       "        vertical-align: top;\n",
       "    }\n",
       "\n",
       "    .dataframe thead th {\n",
       "        text-align: right;\n",
       "    }\n",
       "</style>\n",
       "<table border=\"1\" class=\"dataframe\">\n",
       "  <thead>\n",
       "    <tr style=\"text-align: right;\">\n",
       "      <th></th>\n",
       "      <th>B</th>\n",
       "      <th>D</th>\n",
       "      <th>E</th>\n",
       "    </tr>\n",
       "  </thead>\n",
       "  <tbody>\n",
       "    <tr>\n",
       "      <th>0</th>\n",
       "      <td>12</td>\n",
       "      <td>15</td>\n",
       "      <td>2</td>\n",
       "    </tr>\n",
       "    <tr>\n",
       "      <th>4</th>\n",
       "      <td>12</td>\n",
       "      <td>17</td>\n",
       "      <td>12</td>\n",
       "    </tr>\n",
       "    <tr>\n",
       "      <th>6</th>\n",
       "      <td>15</td>\n",
       "      <td>4</td>\n",
       "      <td>8</td>\n",
       "    </tr>\n",
       "    <tr>\n",
       "      <th>7</th>\n",
       "      <td>18</td>\n",
       "      <td>3</td>\n",
       "      <td>3</td>\n",
       "    </tr>\n",
       "    <tr>\n",
       "      <th>9</th>\n",
       "      <td>19</td>\n",
       "      <td>14</td>\n",
       "      <td>14</td>\n",
       "    </tr>\n",
       "  </tbody>\n",
       "</table>\n",
       "</div>"
      ],
      "text/plain": [
       "    B   D   E\n",
       "0  12  15   2\n",
       "4  12  17  12\n",
       "6  15   4   8\n",
       "7  18   3   3\n",
       "9  19  14  14"
      ]
     },
     "execution_count": 4,
     "metadata": {},
     "output_type": "execute_result"
    }
   ],
   "source": [
    "df.loc[df['B']>10, ['B','D','E']]"
   ]
  },
  {
   "cell_type": "markdown",
   "id": "e1fd41d1",
   "metadata": {},
   "source": [
    "### Slicing Data Frame dengan .loc"
   ]
  },
  {
   "cell_type": "code",
   "execution_count": 5,
   "id": "07c9ca48",
   "metadata": {},
   "outputs": [
    {
     "data": {
      "text/html": [
       "<div>\n",
       "<style scoped>\n",
       "    .dataframe tbody tr th:only-of-type {\n",
       "        vertical-align: middle;\n",
       "    }\n",
       "\n",
       "    .dataframe tbody tr th {\n",
       "        vertical-align: top;\n",
       "    }\n",
       "\n",
       "    .dataframe thead th {\n",
       "        text-align: right;\n",
       "    }\n",
       "</style>\n",
       "<table border=\"1\" class=\"dataframe\">\n",
       "  <thead>\n",
       "    <tr style=\"text-align: right;\">\n",
       "      <th></th>\n",
       "      <th>B</th>\n",
       "      <th>C</th>\n",
       "      <th>D</th>\n",
       "    </tr>\n",
       "  </thead>\n",
       "  <tbody>\n",
       "    <tr>\n",
       "      <th>0</th>\n",
       "      <td>12</td>\n",
       "      <td>5</td>\n",
       "      <td>15</td>\n",
       "    </tr>\n",
       "    <tr>\n",
       "      <th>1</th>\n",
       "      <td>2</td>\n",
       "      <td>18</td>\n",
       "      <td>9</td>\n",
       "    </tr>\n",
       "    <tr>\n",
       "      <th>2</th>\n",
       "      <td>5</td>\n",
       "      <td>16</td>\n",
       "      <td>10</td>\n",
       "    </tr>\n",
       "    <tr>\n",
       "      <th>3</th>\n",
       "      <td>4</td>\n",
       "      <td>6</td>\n",
       "      <td>17</td>\n",
       "    </tr>\n",
       "    <tr>\n",
       "      <th>4</th>\n",
       "      <td>12</td>\n",
       "      <td>12</td>\n",
       "      <td>17</td>\n",
       "    </tr>\n",
       "  </tbody>\n",
       "</table>\n",
       "</div>"
      ],
      "text/plain": [
       "    B   C   D\n",
       "0  12   5  15\n",
       "1   2  18   9\n",
       "2   5  16  10\n",
       "3   4   6  17\n",
       "4  12  12  17"
      ]
     },
     "execution_count": 5,
     "metadata": {},
     "output_type": "execute_result"
    }
   ],
   "source": [
    "df.loc[0:4, 'B':'D']"
   ]
  },
  {
   "cell_type": "markdown",
   "id": "48466a83",
   "metadata": {},
   "source": [
    "## 12. Membentuk kolom bertipe Datetime dari sejumlah kolom lain pada Data Frame"
   ]
  },
  {
   "cell_type": "markdown",
   "id": "dbb0018f",
   "metadata": {},
   "source": [
    "### Import Module"
   ]
  },
  {
   "cell_type": "code",
   "execution_count": 6,
   "id": "d811ca79",
   "metadata": {},
   "outputs": [],
   "source": [
    "import pandas as pd"
   ]
  },
  {
   "cell_type": "markdown",
   "id": "dba0db5a",
   "metadata": {},
   "source": [
    "### Persiapan Data Frame"
   ]
  },
  {
   "cell_type": "code",
   "execution_count": 7,
   "id": "300b5aa7",
   "metadata": {},
   "outputs": [
    {
     "data": {
      "text/html": [
       "<div>\n",
       "<style scoped>\n",
       "    .dataframe tbody tr th:only-of-type {\n",
       "        vertical-align: middle;\n",
       "    }\n",
       "\n",
       "    .dataframe tbody tr th {\n",
       "        vertical-align: top;\n",
       "    }\n",
       "\n",
       "    .dataframe thead th {\n",
       "        text-align: right;\n",
       "    }\n",
       "</style>\n",
       "<table border=\"1\" class=\"dataframe\">\n",
       "  <thead>\n",
       "    <tr style=\"text-align: right;\">\n",
       "      <th></th>\n",
       "      <th>day</th>\n",
       "      <th>month</th>\n",
       "      <th>year</th>\n",
       "    </tr>\n",
       "  </thead>\n",
       "  <tbody>\n",
       "    <tr>\n",
       "      <th>0</th>\n",
       "      <td>1</td>\n",
       "      <td>1</td>\n",
       "      <td>2000</td>\n",
       "    </tr>\n",
       "    <tr>\n",
       "      <th>1</th>\n",
       "      <td>2</td>\n",
       "      <td>2</td>\n",
       "      <td>2001</td>\n",
       "    </tr>\n",
       "    <tr>\n",
       "      <th>2</th>\n",
       "      <td>10</td>\n",
       "      <td>4</td>\n",
       "      <td>2010</td>\n",
       "    </tr>\n",
       "    <tr>\n",
       "      <th>3</th>\n",
       "      <td>25</td>\n",
       "      <td>5</td>\n",
       "      <td>2015</td>\n",
       "    </tr>\n",
       "    <tr>\n",
       "      <th>4</th>\n",
       "      <td>12</td>\n",
       "      <td>6</td>\n",
       "      <td>2020</td>\n",
       "    </tr>\n",
       "  </tbody>\n",
       "</table>\n",
       "</div>"
      ],
      "text/plain": [
       "   day  month  year\n",
       "0    1      1  2000\n",
       "1    2      2  2001\n",
       "2   10      4  2010\n",
       "3   25      5  2015\n",
       "4   12      6  2020"
      ]
     },
     "execution_count": 7,
     "metadata": {},
     "output_type": "execute_result"
    }
   ],
   "source": [
    "data = {'day':[1,2,10,25,12],\n",
    "       'month':[1,2,4,5,6],\n",
    "       'year':[2000,2001,2010,2015,2020]}\n",
    "\n",
    "df = pd.DataFrame(data)\n",
    "df"
   ]
  },
  {
   "cell_type": "markdown",
   "id": "d71f1f01",
   "metadata": {},
   "source": [
    "### Membentuk kolom bertipe Datetime"
   ]
  },
  {
   "cell_type": "code",
   "execution_count": 15,
   "id": "c96b5611",
   "metadata": {},
   "outputs": [
    {
     "data": {
      "text/html": [
       "<div>\n",
       "<style scoped>\n",
       "    .dataframe tbody tr th:only-of-type {\n",
       "        vertical-align: middle;\n",
       "    }\n",
       "\n",
       "    .dataframe tbody tr th {\n",
       "        vertical-align: top;\n",
       "    }\n",
       "\n",
       "    .dataframe thead th {\n",
       "        text-align: right;\n",
       "    }\n",
       "</style>\n",
       "<table border=\"1\" class=\"dataframe\">\n",
       "  <thead>\n",
       "    <tr style=\"text-align: right;\">\n",
       "      <th></th>\n",
       "      <th>day</th>\n",
       "      <th>month</th>\n",
       "      <th>year</th>\n",
       "      <th>tanggal</th>\n",
       "    </tr>\n",
       "  </thead>\n",
       "  <tbody>\n",
       "    <tr>\n",
       "      <th>0</th>\n",
       "      <td>1</td>\n",
       "      <td>1</td>\n",
       "      <td>2000</td>\n",
       "      <td>2000-01-01</td>\n",
       "    </tr>\n",
       "    <tr>\n",
       "      <th>1</th>\n",
       "      <td>2</td>\n",
       "      <td>2</td>\n",
       "      <td>2001</td>\n",
       "      <td>2001-02-02</td>\n",
       "    </tr>\n",
       "    <tr>\n",
       "      <th>2</th>\n",
       "      <td>10</td>\n",
       "      <td>4</td>\n",
       "      <td>2010</td>\n",
       "      <td>2010-04-10</td>\n",
       "    </tr>\n",
       "    <tr>\n",
       "      <th>3</th>\n",
       "      <td>25</td>\n",
       "      <td>5</td>\n",
       "      <td>2015</td>\n",
       "      <td>2015-05-25</td>\n",
       "    </tr>\n",
       "    <tr>\n",
       "      <th>4</th>\n",
       "      <td>12</td>\n",
       "      <td>6</td>\n",
       "      <td>2020</td>\n",
       "      <td>2020-06-12</td>\n",
       "    </tr>\n",
       "  </tbody>\n",
       "</table>\n",
       "</div>"
      ],
      "text/plain": [
       "   day  month  year    tanggal\n",
       "0    1      1  2000 2000-01-01\n",
       "1    2      2  2001 2001-02-02\n",
       "2   10      4  2010 2010-04-10\n",
       "3   25      5  2015 2015-05-25\n",
       "4   12      6  2020 2020-06-12"
      ]
     },
     "execution_count": 15,
     "metadata": {},
     "output_type": "execute_result"
    }
   ],
   "source": [
    "df['tanggal'] = pd.to_datetime(df[['day','month','year']])\n",
    "df"
   ]
  },
  {
   "cell_type": "code",
   "execution_count": 16,
   "id": "90f205cf",
   "metadata": {},
   "outputs": [
    {
     "data": {
      "text/plain": [
       "day                 int64\n",
       "month               int64\n",
       "year                int64\n",
       "tanggal    datetime64[ns]\n",
       "dtype: object"
      ]
     },
     "execution_count": 16,
     "metadata": {},
     "output_type": "execute_result"
    }
   ],
   "source": [
    "df.dtypes"
   ]
  },
  {
   "cell_type": "markdown",
   "id": "4f297d5e",
   "metadata": {},
   "source": [
    "## 13. Konversi nilai numerik ke dalam sejumlah kategori"
   ]
  },
  {
   "cell_type": "markdown",
   "id": "b8a35b57",
   "metadata": {},
   "source": [
    "### Import Module"
   ]
  },
  {
   "cell_type": "code",
   "execution_count": 17,
   "id": "d2755e88",
   "metadata": {},
   "outputs": [],
   "source": [
    "import pandas as pd\n",
    "import numpy as np"
   ]
  },
  {
   "cell_type": "markdown",
   "id": "4f3ad97b",
   "metadata": {},
   "source": [
    "### Persiapan Data Frame"
   ]
  },
  {
   "cell_type": "code",
   "execution_count": 19,
   "id": "0f8a7cbd",
   "metadata": {},
   "outputs": [
    {
     "data": {
      "text/html": [
       "<div>\n",
       "<style scoped>\n",
       "    .dataframe tbody tr th:only-of-type {\n",
       "        vertical-align: middle;\n",
       "    }\n",
       "\n",
       "    .dataframe tbody tr th {\n",
       "        vertical-align: top;\n",
       "    }\n",
       "\n",
       "    .dataframe thead th {\n",
       "        text-align: right;\n",
       "    }\n",
       "</style>\n",
       "<table border=\"1\" class=\"dataframe\">\n",
       "  <thead>\n",
       "    <tr style=\"text-align: right;\">\n",
       "      <th></th>\n",
       "      <th>usia</th>\n",
       "    </tr>\n",
       "  </thead>\n",
       "  <tbody>\n",
       "    <tr>\n",
       "      <th>0</th>\n",
       "      <td>33</td>\n",
       "    </tr>\n",
       "    <tr>\n",
       "      <th>1</th>\n",
       "      <td>53</td>\n",
       "    </tr>\n",
       "    <tr>\n",
       "      <th>2</th>\n",
       "      <td>16</td>\n",
       "    </tr>\n",
       "    <tr>\n",
       "      <th>3</th>\n",
       "      <td>24</td>\n",
       "    </tr>\n",
       "    <tr>\n",
       "      <th>4</th>\n",
       "      <td>4</td>\n",
       "    </tr>\n",
       "    <tr>\n",
       "      <th>5</th>\n",
       "      <td>76</td>\n",
       "    </tr>\n",
       "    <tr>\n",
       "      <th>6</th>\n",
       "      <td>35</td>\n",
       "    </tr>\n",
       "    <tr>\n",
       "      <th>7</th>\n",
       "      <td>79</td>\n",
       "    </tr>\n",
       "    <tr>\n",
       "      <th>8</th>\n",
       "      <td>72</td>\n",
       "    </tr>\n",
       "    <tr>\n",
       "      <th>9</th>\n",
       "      <td>71</td>\n",
       "    </tr>\n",
       "  </tbody>\n",
       "</table>\n",
       "</div>"
      ],
      "text/plain": [
       "   usia\n",
       "0    33\n",
       "1    53\n",
       "2    16\n",
       "3    24\n",
       "4     4\n",
       "5    76\n",
       "6    35\n",
       "7    79\n",
       "8    72\n",
       "9    71"
      ]
     },
     "execution_count": 19,
     "metadata": {},
     "output_type": "execute_result"
    }
   ],
   "source": [
    "cols = ('usia',)\n",
    "df = pd.DataFrame(np.random.randint(1, 99, size=(10, 1)),\n",
    "                 columns=cols)\n",
    "df"
   ]
  },
  {
   "cell_type": "markdown",
   "id": "8a655bbe",
   "metadata": {},
   "source": [
    "### Pengelompokan nilai numerik ke dalam beberapa kategori menggunakan .cut()"
   ]
  },
  {
   "cell_type": "code",
   "execution_count": 20,
   "id": "03486df1",
   "metadata": {},
   "outputs": [
    {
     "data": {
      "text/html": [
       "<div>\n",
       "<style scoped>\n",
       "    .dataframe tbody tr th:only-of-type {\n",
       "        vertical-align: middle;\n",
       "    }\n",
       "\n",
       "    .dataframe tbody tr th {\n",
       "        vertical-align: top;\n",
       "    }\n",
       "\n",
       "    .dataframe thead th {\n",
       "        text-align: right;\n",
       "    }\n",
       "</style>\n",
       "<table border=\"1\" class=\"dataframe\">\n",
       "  <thead>\n",
       "    <tr style=\"text-align: right;\">\n",
       "      <th></th>\n",
       "      <th>usia</th>\n",
       "      <th>kelompok_usia</th>\n",
       "    </tr>\n",
       "  </thead>\n",
       "  <tbody>\n",
       "    <tr>\n",
       "      <th>0</th>\n",
       "      <td>33</td>\n",
       "      <td>dewasa</td>\n",
       "    </tr>\n",
       "    <tr>\n",
       "      <th>1</th>\n",
       "      <td>53</td>\n",
       "      <td>dewasa</td>\n",
       "    </tr>\n",
       "    <tr>\n",
       "      <th>2</th>\n",
       "      <td>16</td>\n",
       "      <td>anak</td>\n",
       "    </tr>\n",
       "    <tr>\n",
       "      <th>3</th>\n",
       "      <td>24</td>\n",
       "      <td>dewasa</td>\n",
       "    </tr>\n",
       "    <tr>\n",
       "      <th>4</th>\n",
       "      <td>4</td>\n",
       "      <td>anak</td>\n",
       "    </tr>\n",
       "    <tr>\n",
       "      <th>5</th>\n",
       "      <td>76</td>\n",
       "      <td>manula</td>\n",
       "    </tr>\n",
       "    <tr>\n",
       "      <th>6</th>\n",
       "      <td>35</td>\n",
       "      <td>dewasa</td>\n",
       "    </tr>\n",
       "    <tr>\n",
       "      <th>7</th>\n",
       "      <td>79</td>\n",
       "      <td>manula</td>\n",
       "    </tr>\n",
       "    <tr>\n",
       "      <th>8</th>\n",
       "      <td>72</td>\n",
       "      <td>manula</td>\n",
       "    </tr>\n",
       "    <tr>\n",
       "      <th>9</th>\n",
       "      <td>71</td>\n",
       "      <td>manula</td>\n",
       "    </tr>\n",
       "  </tbody>\n",
       "</table>\n",
       "</div>"
      ],
      "text/plain": [
       "   usia kelompok_usia\n",
       "0    33        dewasa\n",
       "1    53        dewasa\n",
       "2    16          anak\n",
       "3    24        dewasa\n",
       "4     4          anak\n",
       "5    76        manula\n",
       "6    35        dewasa\n",
       "7    79        manula\n",
       "8    72        manula\n",
       "9    71        manula"
      ]
     },
     "execution_count": 20,
     "metadata": {},
     "output_type": "execute_result"
    }
   ],
   "source": [
    "df['kelompok_usia'] = pd.cut(df['usia'],\n",
    "                            bins =[0, 18, 65, 99],\n",
    "                            labels =['anak','dewasa','manula'])\n",
    "df"
   ]
  },
  {
   "cell_type": "markdown",
   "id": "fca0e030",
   "metadata": {},
   "source": [
    "## 14. Menggabungkan (merge) dua Data Frame"
   ]
  },
  {
   "cell_type": "markdown",
   "id": "fdf81af8",
   "metadata": {},
   "source": [
    "### Import Module"
   ]
  },
  {
   "cell_type": "code",
   "execution_count": 21,
   "id": "7dc03256",
   "metadata": {},
   "outputs": [],
   "source": [
    "import pandas as pd\n",
    "import numpy as np"
   ]
  },
  {
   "cell_type": "markdown",
   "id": "0a09033e",
   "metadata": {},
   "source": [
    "### Persiapan Data Frame"
   ]
  },
  {
   "cell_type": "code",
   "execution_count": 22,
   "id": "49226759",
   "metadata": {},
   "outputs": [
    {
     "data": {
      "text/html": [
       "<div>\n",
       "<style scoped>\n",
       "    .dataframe tbody tr th:only-of-type {\n",
       "        vertical-align: middle;\n",
       "    }\n",
       "\n",
       "    .dataframe tbody tr th {\n",
       "        vertical-align: top;\n",
       "    }\n",
       "\n",
       "    .dataframe thead th {\n",
       "        text-align: right;\n",
       "    }\n",
       "</style>\n",
       "<table border=\"1\" class=\"dataframe\">\n",
       "  <thead>\n",
       "    <tr style=\"text-align: right;\">\n",
       "      <th></th>\n",
       "      <th>A</th>\n",
       "      <th>B</th>\n",
       "      <th>C</th>\n",
       "      <th>D</th>\n",
       "      <th>E</th>\n",
       "    </tr>\n",
       "  </thead>\n",
       "  <tbody>\n",
       "    <tr>\n",
       "      <th>0</th>\n",
       "      <td>2</td>\n",
       "      <td>10</td>\n",
       "      <td>15</td>\n",
       "      <td>11</td>\n",
       "      <td>18</td>\n",
       "    </tr>\n",
       "    <tr>\n",
       "      <th>1</th>\n",
       "      <td>13</td>\n",
       "      <td>17</td>\n",
       "      <td>5</td>\n",
       "      <td>2</td>\n",
       "      <td>18</td>\n",
       "    </tr>\n",
       "    <tr>\n",
       "      <th>2</th>\n",
       "      <td>3</td>\n",
       "      <td>10</td>\n",
       "      <td>7</td>\n",
       "      <td>19</td>\n",
       "      <td>2</td>\n",
       "    </tr>\n",
       "    <tr>\n",
       "      <th>3</th>\n",
       "      <td>6</td>\n",
       "      <td>8</td>\n",
       "      <td>14</td>\n",
       "      <td>2</td>\n",
       "      <td>11</td>\n",
       "    </tr>\n",
       "    <tr>\n",
       "      <th>4</th>\n",
       "      <td>5</td>\n",
       "      <td>13</td>\n",
       "      <td>6</td>\n",
       "      <td>3</td>\n",
       "      <td>1</td>\n",
       "    </tr>\n",
       "  </tbody>\n",
       "</table>\n",
       "</div>"
      ],
      "text/plain": [
       "    A   B   C   D   E\n",
       "0   2  10  15  11  18\n",
       "1  13  17   5   2  18\n",
       "2   3  10   7  19   2\n",
       "3   6   8  14   2  11\n",
       "4   5  13   6   3   1"
      ]
     },
     "execution_count": 22,
     "metadata": {},
     "output_type": "execute_result"
    }
   ],
   "source": [
    "cols = tuple('ABCDE')\n",
    "df = pd.DataFrame(np.random.randint(1, 20, size=(5, 5)),\n",
    "                 columns=cols)\n",
    "df"
   ]
  },
  {
   "cell_type": "code",
   "execution_count": 23,
   "id": "d39e1087",
   "metadata": {},
   "outputs": [
    {
     "data": {
      "text/html": [
       "<div>\n",
       "<style scoped>\n",
       "    .dataframe tbody tr th:only-of-type {\n",
       "        vertical-align: middle;\n",
       "    }\n",
       "\n",
       "    .dataframe tbody tr th {\n",
       "        vertical-align: top;\n",
       "    }\n",
       "\n",
       "    .dataframe thead th {\n",
       "        text-align: right;\n",
       "    }\n",
       "</style>\n",
       "<table border=\"1\" class=\"dataframe\">\n",
       "  <thead>\n",
       "    <tr style=\"text-align: right;\">\n",
       "      <th></th>\n",
       "      <th>A</th>\n",
       "      <th>B</th>\n",
       "      <th>C</th>\n",
       "      <th>D</th>\n",
       "      <th>E</th>\n",
       "    </tr>\n",
       "  </thead>\n",
       "  <tbody>\n",
       "    <tr>\n",
       "      <th>0</th>\n",
       "      <td>2</td>\n",
       "      <td>10</td>\n",
       "      <td>15</td>\n",
       "      <td>11</td>\n",
       "      <td>18</td>\n",
       "    </tr>\n",
       "    <tr>\n",
       "      <th>2</th>\n",
       "      <td>3</td>\n",
       "      <td>10</td>\n",
       "      <td>7</td>\n",
       "      <td>19</td>\n",
       "      <td>2</td>\n",
       "    </tr>\n",
       "    <tr>\n",
       "      <th>3</th>\n",
       "      <td>6</td>\n",
       "      <td>8</td>\n",
       "      <td>14</td>\n",
       "      <td>2</td>\n",
       "      <td>11</td>\n",
       "    </tr>\n",
       "  </tbody>\n",
       "</table>\n",
       "</div>"
      ],
      "text/plain": [
       "   A   B   C   D   E\n",
       "0  2  10  15  11  18\n",
       "2  3  10   7  19   2\n",
       "3  6   8  14   2  11"
      ]
     },
     "execution_count": 23,
     "metadata": {},
     "output_type": "execute_result"
    }
   ],
   "source": [
    "df1 = df.copy(deep=True)\n",
    "df1 = df1.drop([1,4])\n",
    "df1"
   ]
  },
  {
   "cell_type": "code",
   "execution_count": 24,
   "id": "63da9940",
   "metadata": {},
   "outputs": [
    {
     "data": {
      "text/html": [
       "<div>\n",
       "<style scoped>\n",
       "    .dataframe tbody tr th:only-of-type {\n",
       "        vertical-align: middle;\n",
       "    }\n",
       "\n",
       "    .dataframe tbody tr th {\n",
       "        vertical-align: top;\n",
       "    }\n",
       "\n",
       "    .dataframe thead th {\n",
       "        text-align: right;\n",
       "    }\n",
       "</style>\n",
       "<table border=\"1\" class=\"dataframe\">\n",
       "  <thead>\n",
       "    <tr style=\"text-align: right;\">\n",
       "      <th></th>\n",
       "      <th>A</th>\n",
       "      <th>B</th>\n",
       "      <th>C</th>\n",
       "      <th>D</th>\n",
       "      <th>E</th>\n",
       "    </tr>\n",
       "  </thead>\n",
       "  <tbody>\n",
       "    <tr>\n",
       "      <th>1</th>\n",
       "      <td>13</td>\n",
       "      <td>17</td>\n",
       "      <td>5</td>\n",
       "      <td>2</td>\n",
       "      <td>18</td>\n",
       "    </tr>\n",
       "    <tr>\n",
       "      <th>2</th>\n",
       "      <td>3</td>\n",
       "      <td>10</td>\n",
       "      <td>7</td>\n",
       "      <td>19</td>\n",
       "      <td>2</td>\n",
       "    </tr>\n",
       "    <tr>\n",
       "      <th>4</th>\n",
       "      <td>5</td>\n",
       "      <td>13</td>\n",
       "      <td>6</td>\n",
       "      <td>3</td>\n",
       "      <td>1</td>\n",
       "    </tr>\n",
       "  </tbody>\n",
       "</table>\n",
       "</div>"
      ],
      "text/plain": [
       "    A   B  C   D   E\n",
       "1  13  17  5   2  18\n",
       "2   3  10  7  19   2\n",
       "4   5  13  6   3   1"
      ]
     },
     "execution_count": 24,
     "metadata": {},
     "output_type": "execute_result"
    }
   ],
   "source": [
    "df2 = df.copy(deep=True)\n",
    "df2 = df2.drop([0,3])\n",
    "df2"
   ]
  },
  {
   "cell_type": "markdown",
   "id": "1295a87b",
   "metadata": {},
   "source": [
    "### Menggabungkan dua Data Frame"
   ]
  },
  {
   "cell_type": "code",
   "execution_count": 25,
   "id": "6f2a247c",
   "metadata": {},
   "outputs": [
    {
     "data": {
      "text/html": [
       "<div>\n",
       "<style scoped>\n",
       "    .dataframe tbody tr th:only-of-type {\n",
       "        vertical-align: middle;\n",
       "    }\n",
       "\n",
       "    .dataframe tbody tr th {\n",
       "        vertical-align: top;\n",
       "    }\n",
       "\n",
       "    .dataframe thead th {\n",
       "        text-align: right;\n",
       "    }\n",
       "</style>\n",
       "<table border=\"1\" class=\"dataframe\">\n",
       "  <thead>\n",
       "    <tr style=\"text-align: right;\">\n",
       "      <th></th>\n",
       "      <th>A</th>\n",
       "      <th>B</th>\n",
       "      <th>C</th>\n",
       "      <th>D</th>\n",
       "      <th>E</th>\n",
       "    </tr>\n",
       "  </thead>\n",
       "  <tbody>\n",
       "    <tr>\n",
       "      <th>0</th>\n",
       "      <td>3</td>\n",
       "      <td>10</td>\n",
       "      <td>7</td>\n",
       "      <td>19</td>\n",
       "      <td>2</td>\n",
       "    </tr>\n",
       "  </tbody>\n",
       "</table>\n",
       "</div>"
      ],
      "text/plain": [
       "   A   B  C   D  E\n",
       "0  3  10  7  19  2"
      ]
     },
     "execution_count": 25,
     "metadata": {},
     "output_type": "execute_result"
    }
   ],
   "source": [
    "df_inner = pd.merge(df1, df2, how='inner')\n",
    "df_inner"
   ]
  },
  {
   "cell_type": "code",
   "execution_count": 26,
   "id": "b9c9ff67",
   "metadata": {},
   "outputs": [
    {
     "data": {
      "text/html": [
       "<div>\n",
       "<style scoped>\n",
       "    .dataframe tbody tr th:only-of-type {\n",
       "        vertical-align: middle;\n",
       "    }\n",
       "\n",
       "    .dataframe tbody tr th {\n",
       "        vertical-align: top;\n",
       "    }\n",
       "\n",
       "    .dataframe thead th {\n",
       "        text-align: right;\n",
       "    }\n",
       "</style>\n",
       "<table border=\"1\" class=\"dataframe\">\n",
       "  <thead>\n",
       "    <tr style=\"text-align: right;\">\n",
       "      <th></th>\n",
       "      <th>A</th>\n",
       "      <th>B</th>\n",
       "      <th>C</th>\n",
       "      <th>D</th>\n",
       "      <th>E</th>\n",
       "    </tr>\n",
       "  </thead>\n",
       "  <tbody>\n",
       "    <tr>\n",
       "      <th>0</th>\n",
       "      <td>2</td>\n",
       "      <td>10</td>\n",
       "      <td>15</td>\n",
       "      <td>11</td>\n",
       "      <td>18</td>\n",
       "    </tr>\n",
       "    <tr>\n",
       "      <th>1</th>\n",
       "      <td>3</td>\n",
       "      <td>10</td>\n",
       "      <td>7</td>\n",
       "      <td>19</td>\n",
       "      <td>2</td>\n",
       "    </tr>\n",
       "    <tr>\n",
       "      <th>2</th>\n",
       "      <td>6</td>\n",
       "      <td>8</td>\n",
       "      <td>14</td>\n",
       "      <td>2</td>\n",
       "      <td>11</td>\n",
       "    </tr>\n",
       "    <tr>\n",
       "      <th>3</th>\n",
       "      <td>13</td>\n",
       "      <td>17</td>\n",
       "      <td>5</td>\n",
       "      <td>2</td>\n",
       "      <td>18</td>\n",
       "    </tr>\n",
       "    <tr>\n",
       "      <th>4</th>\n",
       "      <td>5</td>\n",
       "      <td>13</td>\n",
       "      <td>6</td>\n",
       "      <td>3</td>\n",
       "      <td>1</td>\n",
       "    </tr>\n",
       "  </tbody>\n",
       "</table>\n",
       "</div>"
      ],
      "text/plain": [
       "    A   B   C   D   E\n",
       "0   2  10  15  11  18\n",
       "1   3  10   7  19   2\n",
       "2   6   8  14   2  11\n",
       "3  13  17   5   2  18\n",
       "4   5  13   6   3   1"
      ]
     },
     "execution_count": 26,
     "metadata": {},
     "output_type": "execute_result"
    }
   ],
   "source": [
    "df_outer = pd.merge(df1, df2, how='outer')\n",
    "df_outer"
   ]
  },
  {
   "cell_type": "markdown",
   "id": "6a6e36e7",
   "metadata": {},
   "source": [
    "## 15. Memecah nilai string dari suatu kolom ke dalam beberapa kolom baru"
   ]
  },
  {
   "cell_type": "markdown",
   "id": "d63a51da",
   "metadata": {},
   "source": [
    "### Import Module"
   ]
  },
  {
   "cell_type": "code",
   "execution_count": 27,
   "id": "e4e3ae4b",
   "metadata": {},
   "outputs": [],
   "source": [
    "import pandas as pd"
   ]
  },
  {
   "cell_type": "markdown",
   "id": "8df6a41a",
   "metadata": {},
   "source": [
    "### Persiapan Data Frame"
   ]
  },
  {
   "cell_type": "code",
   "execution_count": 28,
   "id": "df7c632c",
   "metadata": {},
   "outputs": [
    {
     "data": {
      "text/html": [
       "<div>\n",
       "<style scoped>\n",
       "    .dataframe tbody tr th:only-of-type {\n",
       "        vertical-align: middle;\n",
       "    }\n",
       "\n",
       "    .dataframe tbody tr th {\n",
       "        vertical-align: top;\n",
       "    }\n",
       "\n",
       "    .dataframe thead th {\n",
       "        text-align: right;\n",
       "    }\n",
       "</style>\n",
       "<table border=\"1\" class=\"dataframe\">\n",
       "  <thead>\n",
       "    <tr style=\"text-align: right;\">\n",
       "      <th></th>\n",
       "      <th>nama</th>\n",
       "      <th>tempat_kelahiran</th>\n",
       "    </tr>\n",
       "  </thead>\n",
       "  <tbody>\n",
       "    <tr>\n",
       "      <th>0</th>\n",
       "      <td>Didi Kempot</td>\n",
       "      <td>Surakarta, Jawa Tengah</td>\n",
       "    </tr>\n",
       "    <tr>\n",
       "      <th>1</th>\n",
       "      <td>Glenn Fredly</td>\n",
       "      <td>Jakarta, DKI Jakarta</td>\n",
       "    </tr>\n",
       "    <tr>\n",
       "      <th>2</th>\n",
       "      <td>Mbah Surip</td>\n",
       "      <td>Mojokerto, Jawa Timur</td>\n",
       "    </tr>\n",
       "  </tbody>\n",
       "</table>\n",
       "</div>"
      ],
      "text/plain": [
       "           nama        tempat_kelahiran\n",
       "0   Didi Kempot  Surakarta, Jawa Tengah\n",
       "1  Glenn Fredly    Jakarta, DKI Jakarta\n",
       "2    Mbah Surip   Mojokerto, Jawa Timur"
      ]
     },
     "execution_count": 28,
     "metadata": {},
     "output_type": "execute_result"
    }
   ],
   "source": [
    "data = {'nama':['Didi Kempot','Glenn Fredly','Mbah Surip'],\n",
    "       'tempat_kelahiran':['Surakarta, Jawa Tengah','Jakarta, DKI Jakarta','Mojokerto, Jawa Timur']}\n",
    "df = pd.DataFrame(data)\n",
    "df"
   ]
  },
  {
   "cell_type": "markdown",
   "id": "140ecf7c",
   "metadata": {},
   "source": [
    "### Memecah nama depan dan nama belakang"
   ]
  },
  {
   "cell_type": "code",
   "execution_count": 29,
   "id": "d2e2f59c",
   "metadata": {},
   "outputs": [
    {
     "data": {
      "text/html": [
       "<div>\n",
       "<style scoped>\n",
       "    .dataframe tbody tr th:only-of-type {\n",
       "        vertical-align: middle;\n",
       "    }\n",
       "\n",
       "    .dataframe tbody tr th {\n",
       "        vertical-align: top;\n",
       "    }\n",
       "\n",
       "    .dataframe thead th {\n",
       "        text-align: right;\n",
       "    }\n",
       "</style>\n",
       "<table border=\"1\" class=\"dataframe\">\n",
       "  <thead>\n",
       "    <tr style=\"text-align: right;\">\n",
       "      <th></th>\n",
       "      <th>nama</th>\n",
       "      <th>tempat_kelahiran</th>\n",
       "      <th>nama_depan</th>\n",
       "      <th>nama_belakang</th>\n",
       "    </tr>\n",
       "  </thead>\n",
       "  <tbody>\n",
       "    <tr>\n",
       "      <th>0</th>\n",
       "      <td>Didi Kempot</td>\n",
       "      <td>Surakarta, Jawa Tengah</td>\n",
       "      <td>Didi</td>\n",
       "      <td>Kempot</td>\n",
       "    </tr>\n",
       "    <tr>\n",
       "      <th>1</th>\n",
       "      <td>Glenn Fredly</td>\n",
       "      <td>Jakarta, DKI Jakarta</td>\n",
       "      <td>Glenn</td>\n",
       "      <td>Fredly</td>\n",
       "    </tr>\n",
       "    <tr>\n",
       "      <th>2</th>\n",
       "      <td>Mbah Surip</td>\n",
       "      <td>Mojokerto, Jawa Timur</td>\n",
       "      <td>Mbah</td>\n",
       "      <td>Surip</td>\n",
       "    </tr>\n",
       "  </tbody>\n",
       "</table>\n",
       "</div>"
      ],
      "text/plain": [
       "           nama        tempat_kelahiran nama_depan nama_belakang\n",
       "0   Didi Kempot  Surakarta, Jawa Tengah       Didi        Kempot\n",
       "1  Glenn Fredly    Jakarta, DKI Jakarta      Glenn        Fredly\n",
       "2    Mbah Surip   Mojokerto, Jawa Timur       Mbah         Surip"
      ]
     },
     "execution_count": 29,
     "metadata": {},
     "output_type": "execute_result"
    }
   ],
   "source": [
    "df[['nama_depan','nama_belakang']] = df['nama'].str.split(' ', expand=True)\n",
    "df"
   ]
  },
  {
   "cell_type": "code",
   "execution_count": 30,
   "id": "b4eaddad",
   "metadata": {},
   "outputs": [
    {
     "data": {
      "text/html": [
       "<div>\n",
       "<style scoped>\n",
       "    .dataframe tbody tr th:only-of-type {\n",
       "        vertical-align: middle;\n",
       "    }\n",
       "\n",
       "    .dataframe tbody tr th {\n",
       "        vertical-align: top;\n",
       "    }\n",
       "\n",
       "    .dataframe thead th {\n",
       "        text-align: right;\n",
       "    }\n",
       "</style>\n",
       "<table border=\"1\" class=\"dataframe\">\n",
       "  <thead>\n",
       "    <tr style=\"text-align: right;\">\n",
       "      <th></th>\n",
       "      <th>nama</th>\n",
       "      <th>tempat_kelahiran</th>\n",
       "      <th>nama_depan</th>\n",
       "      <th>nama_belakang</th>\n",
       "      <th>kota</th>\n",
       "      <th>provinsi</th>\n",
       "    </tr>\n",
       "  </thead>\n",
       "  <tbody>\n",
       "    <tr>\n",
       "      <th>0</th>\n",
       "      <td>Didi Kempot</td>\n",
       "      <td>Surakarta, Jawa Tengah</td>\n",
       "      <td>Didi</td>\n",
       "      <td>Kempot</td>\n",
       "      <td>Surakarta</td>\n",
       "      <td>Jawa Tengah</td>\n",
       "    </tr>\n",
       "    <tr>\n",
       "      <th>1</th>\n",
       "      <td>Glenn Fredly</td>\n",
       "      <td>Jakarta, DKI Jakarta</td>\n",
       "      <td>Glenn</td>\n",
       "      <td>Fredly</td>\n",
       "      <td>Jakarta</td>\n",
       "      <td>DKI Jakarta</td>\n",
       "    </tr>\n",
       "    <tr>\n",
       "      <th>2</th>\n",
       "      <td>Mbah Surip</td>\n",
       "      <td>Mojokerto, Jawa Timur</td>\n",
       "      <td>Mbah</td>\n",
       "      <td>Surip</td>\n",
       "      <td>Mojokerto</td>\n",
       "      <td>Jawa Timur</td>\n",
       "    </tr>\n",
       "  </tbody>\n",
       "</table>\n",
       "</div>"
      ],
      "text/plain": [
       "           nama        tempat_kelahiran nama_depan nama_belakang       kota  \\\n",
       "0   Didi Kempot  Surakarta, Jawa Tengah       Didi        Kempot  Surakarta   \n",
       "1  Glenn Fredly    Jakarta, DKI Jakarta      Glenn        Fredly    Jakarta   \n",
       "2    Mbah Surip   Mojokerto, Jawa Timur       Mbah         Surip  Mojokerto   \n",
       "\n",
       "      provinsi  \n",
       "0  Jawa Tengah  \n",
       "1  DKI Jakarta  \n",
       "2   Jawa Timur  "
      ]
     },
     "execution_count": 30,
     "metadata": {},
     "output_type": "execute_result"
    }
   ],
   "source": [
    "df[['kota','provinsi']] = df['tempat_kelahiran'].str.split(', ', expand=True)\n",
    "df"
   ]
  },
  {
   "cell_type": "markdown",
   "id": "abf57d18",
   "metadata": {},
   "source": [
    "## 16. Menata ulang Data Frame dengan multiple indexes menggunakan .unstack()"
   ]
  },
  {
   "cell_type": "markdown",
   "id": "fcae076b",
   "metadata": {},
   "source": [
    "### Import Module"
   ]
  },
  {
   "cell_type": "code",
   "execution_count": 31,
   "id": "e5d27f5d",
   "metadata": {},
   "outputs": [],
   "source": [
    "import pandas as pd"
   ]
  },
  {
   "cell_type": "markdown",
   "id": "9c4d2088",
   "metadata": {},
   "source": [
    "### Persiapan Data Frame"
   ]
  },
  {
   "cell_type": "code",
   "execution_count": 32,
   "id": "53024c67",
   "metadata": {},
   "outputs": [
    {
     "data": {
      "text/html": [
       "<div>\n",
       "<style scoped>\n",
       "    .dataframe tbody tr th:only-of-type {\n",
       "        vertical-align: middle;\n",
       "    }\n",
       "\n",
       "    .dataframe tbody tr th {\n",
       "        vertical-align: top;\n",
       "    }\n",
       "\n",
       "    .dataframe thead th {\n",
       "        text-align: right;\n",
       "    }\n",
       "</style>\n",
       "<table border=\"1\" class=\"dataframe\">\n",
       "  <thead>\n",
       "    <tr style=\"text-align: right;\">\n",
       "      <th></th>\n",
       "      <th>pclass</th>\n",
       "      <th>survived</th>\n",
       "      <th>name</th>\n",
       "      <th>sex</th>\n",
       "      <th>age</th>\n",
       "      <th>sibsp</th>\n",
       "      <th>parch</th>\n",
       "      <th>ticket</th>\n",
       "      <th>fare</th>\n",
       "      <th>cabin</th>\n",
       "      <th>embarked</th>\n",
       "    </tr>\n",
       "  </thead>\n",
       "  <tbody>\n",
       "    <tr>\n",
       "      <th>0</th>\n",
       "      <td>1</td>\n",
       "      <td>1</td>\n",
       "      <td>Allen, Miss. Elisabeth Walton</td>\n",
       "      <td>female</td>\n",
       "      <td>29.00</td>\n",
       "      <td>0</td>\n",
       "      <td>0</td>\n",
       "      <td>24160</td>\n",
       "      <td>211.3375</td>\n",
       "      <td>B5</td>\n",
       "      <td>S</td>\n",
       "    </tr>\n",
       "    <tr>\n",
       "      <th>1</th>\n",
       "      <td>1</td>\n",
       "      <td>1</td>\n",
       "      <td>Allison, Master. Hudson Trevor</td>\n",
       "      <td>male</td>\n",
       "      <td>0.92</td>\n",
       "      <td>1</td>\n",
       "      <td>2</td>\n",
       "      <td>113781</td>\n",
       "      <td>151.5500</td>\n",
       "      <td>C22 C26</td>\n",
       "      <td>S</td>\n",
       "    </tr>\n",
       "    <tr>\n",
       "      <th>2</th>\n",
       "      <td>1</td>\n",
       "      <td>0</td>\n",
       "      <td>Allison, Miss. Helen Loraine</td>\n",
       "      <td>female</td>\n",
       "      <td>2.00</td>\n",
       "      <td>1</td>\n",
       "      <td>2</td>\n",
       "      <td>113781</td>\n",
       "      <td>151.5500</td>\n",
       "      <td>C22 C26</td>\n",
       "      <td>S</td>\n",
       "    </tr>\n",
       "    <tr>\n",
       "      <th>3</th>\n",
       "      <td>1</td>\n",
       "      <td>0</td>\n",
       "      <td>Allison, Mr. Hudson Joshua Creighton</td>\n",
       "      <td>male</td>\n",
       "      <td>30.00</td>\n",
       "      <td>1</td>\n",
       "      <td>2</td>\n",
       "      <td>113781</td>\n",
       "      <td>151.5500</td>\n",
       "      <td>C22 C26</td>\n",
       "      <td>S</td>\n",
       "    </tr>\n",
       "    <tr>\n",
       "      <th>4</th>\n",
       "      <td>1</td>\n",
       "      <td>0</td>\n",
       "      <td>Allison, Mrs. Hudson J C (Bessie Waldo Daniels)</td>\n",
       "      <td>female</td>\n",
       "      <td>25.00</td>\n",
       "      <td>1</td>\n",
       "      <td>2</td>\n",
       "      <td>113781</td>\n",
       "      <td>151.5500</td>\n",
       "      <td>C22 C26</td>\n",
       "      <td>S</td>\n",
       "    </tr>\n",
       "  </tbody>\n",
       "</table>\n",
       "</div>"
      ],
      "text/plain": [
       "   pclass  survived                                             name     sex  \\\n",
       "0       1         1                    Allen, Miss. Elisabeth Walton  female   \n",
       "1       1         1                   Allison, Master. Hudson Trevor    male   \n",
       "2       1         0                     Allison, Miss. Helen Loraine  female   \n",
       "3       1         0             Allison, Mr. Hudson Joshua Creighton    male   \n",
       "4       1         0  Allison, Mrs. Hudson J C (Bessie Waldo Daniels)  female   \n",
       "\n",
       "     age  sibsp  parch  ticket      fare    cabin embarked  \n",
       "0  29.00      0      0   24160  211.3375       B5        S  \n",
       "1   0.92      1      2  113781  151.5500  C22 C26        S  \n",
       "2   2.00      1      2  113781  151.5500  C22 C26        S  \n",
       "3  30.00      1      2  113781  151.5500  C22 C26        S  \n",
       "4  25.00      1      2  113781  151.5500  C22 C26        S  "
      ]
     },
     "execution_count": 32,
     "metadata": {},
     "output_type": "execute_result"
    }
   ],
   "source": [
    "df = pd.read_csv('titanic.csv')\n",
    "df.head()"
   ]
  },
  {
   "cell_type": "markdown",
   "id": "59024c69",
   "metadata": {},
   "source": [
    "### Data Frame dengan multiple indexes dari hasil groupping"
   ]
  },
  {
   "cell_type": "code",
   "execution_count": 35,
   "id": "5bcc865e",
   "metadata": {},
   "outputs": [
    {
     "data": {
      "text/html": [
       "<div>\n",
       "<style scoped>\n",
       "    .dataframe tbody tr th:only-of-type {\n",
       "        vertical-align: middle;\n",
       "    }\n",
       "\n",
       "    .dataframe tbody tr th {\n",
       "        vertical-align: top;\n",
       "    }\n",
       "\n",
       "    .dataframe thead th {\n",
       "        text-align: right;\n",
       "    }\n",
       "</style>\n",
       "<table border=\"1\" class=\"dataframe\">\n",
       "  <thead>\n",
       "    <tr style=\"text-align: right;\">\n",
       "      <th></th>\n",
       "      <th></th>\n",
       "      <th>survived</th>\n",
       "    </tr>\n",
       "    <tr>\n",
       "      <th>sex</th>\n",
       "      <th>pclass</th>\n",
       "      <th></th>\n",
       "    </tr>\n",
       "  </thead>\n",
       "  <tbody>\n",
       "    <tr>\n",
       "      <th rowspan=\"3\" valign=\"top\">female</th>\n",
       "      <th>1</th>\n",
       "      <td>0.965278</td>\n",
       "    </tr>\n",
       "    <tr>\n",
       "      <th>2</th>\n",
       "      <td>0.886792</td>\n",
       "    </tr>\n",
       "    <tr>\n",
       "      <th>3</th>\n",
       "      <td>0.490741</td>\n",
       "    </tr>\n",
       "    <tr>\n",
       "      <th rowspan=\"3\" valign=\"top\">male</th>\n",
       "      <th>1</th>\n",
       "      <td>0.340782</td>\n",
       "    </tr>\n",
       "    <tr>\n",
       "      <th>2</th>\n",
       "      <td>0.146199</td>\n",
       "    </tr>\n",
       "    <tr>\n",
       "      <th>3</th>\n",
       "      <td>0.152130</td>\n",
       "    </tr>\n",
       "  </tbody>\n",
       "</table>\n",
       "</div>"
      ],
      "text/plain": [
       "               survived\n",
       "sex    pclass          \n",
       "female 1       0.965278\n",
       "       2       0.886792\n",
       "       3       0.490741\n",
       "male   1       0.340782\n",
       "       2       0.146199\n",
       "       3       0.152130"
      ]
     },
     "execution_count": 35,
     "metadata": {},
     "output_type": "execute_result"
    }
   ],
   "source": [
    "df.groupby(['sex','pclass'])['survived'].mean().to_frame()"
   ]
  },
  {
   "cell_type": "markdown",
   "id": "1d7200cf",
   "metadata": {},
   "source": [
    "### Menata ulang Data Frame dengan multiple indexes"
   ]
  },
  {
   "cell_type": "code",
   "execution_count": 36,
   "id": "0262b5b9",
   "metadata": {},
   "outputs": [
    {
     "data": {
      "text/html": [
       "<div>\n",
       "<style scoped>\n",
       "    .dataframe tbody tr th:only-of-type {\n",
       "        vertical-align: middle;\n",
       "    }\n",
       "\n",
       "    .dataframe tbody tr th {\n",
       "        vertical-align: top;\n",
       "    }\n",
       "\n",
       "    .dataframe thead th {\n",
       "        text-align: right;\n",
       "    }\n",
       "</style>\n",
       "<table border=\"1\" class=\"dataframe\">\n",
       "  <thead>\n",
       "    <tr style=\"text-align: right;\">\n",
       "      <th>pclass</th>\n",
       "      <th>1</th>\n",
       "      <th>2</th>\n",
       "      <th>3</th>\n",
       "    </tr>\n",
       "    <tr>\n",
       "      <th>sex</th>\n",
       "      <th></th>\n",
       "      <th></th>\n",
       "      <th></th>\n",
       "    </tr>\n",
       "  </thead>\n",
       "  <tbody>\n",
       "    <tr>\n",
       "      <th>female</th>\n",
       "      <td>0.965278</td>\n",
       "      <td>0.886792</td>\n",
       "      <td>0.490741</td>\n",
       "    </tr>\n",
       "    <tr>\n",
       "      <th>male</th>\n",
       "      <td>0.340782</td>\n",
       "      <td>0.146199</td>\n",
       "      <td>0.152130</td>\n",
       "    </tr>\n",
       "  </tbody>\n",
       "</table>\n",
       "</div>"
      ],
      "text/plain": [
       "pclass         1         2         3\n",
       "sex                                 \n",
       "female  0.965278  0.886792  0.490741\n",
       "male    0.340782  0.146199  0.152130"
      ]
     },
     "execution_count": 36,
     "metadata": {},
     "output_type": "execute_result"
    }
   ],
   "source": [
    "df.groupby(['sex','pclass'])['survived'].mean().unstack()"
   ]
  },
  {
   "cell_type": "markdown",
   "id": "4bff03ce",
   "metadata": {},
   "source": [
    "## 17. Resampling pada data deret waktu (Time Series Dat)"
   ]
  },
  {
   "cell_type": "markdown",
   "id": "e38eed71",
   "metadata": {},
   "source": [
    "### Import Module"
   ]
  },
  {
   "cell_type": "code",
   "execution_count": 37,
   "id": "de3f151f",
   "metadata": {},
   "outputs": [],
   "source": [
    "import pandas as pd\n",
    "import numpy as np"
   ]
  },
  {
   "cell_type": "markdown",
   "id": "a4d6bf48",
   "metadata": {},
   "source": [
    "### Persiapan Data Frame"
   ]
  },
  {
   "cell_type": "code",
   "execution_count": 38,
   "id": "4273c2cc",
   "metadata": {},
   "outputs": [
    {
     "name": "stderr",
     "output_type": "stream",
     "text": [
      "E:\\Phython\\lib\\site-packages\\pandas\\util\\__init__.py:15: FutureWarning: pandas.util.testing is deprecated. Use the functions in the public API at pandas.testing instead.\n",
      "  import pandas.util.testing\n"
     ]
    },
    {
     "data": {
      "text/html": [
       "<div>\n",
       "<style scoped>\n",
       "    .dataframe tbody tr th:only-of-type {\n",
       "        vertical-align: middle;\n",
       "    }\n",
       "\n",
       "    .dataframe tbody tr th {\n",
       "        vertical-align: top;\n",
       "    }\n",
       "\n",
       "    .dataframe thead th {\n",
       "        text-align: right;\n",
       "    }\n",
       "</style>\n",
       "<table border=\"1\" class=\"dataframe\">\n",
       "  <thead>\n",
       "    <tr style=\"text-align: right;\">\n",
       "      <th></th>\n",
       "      <th>cols1</th>\n",
       "      <th>cols2</th>\n",
       "    </tr>\n",
       "  </thead>\n",
       "  <tbody>\n",
       "    <tr>\n",
       "      <th>2000-01-01 00:00:00</th>\n",
       "      <td>4</td>\n",
       "      <td>9</td>\n",
       "    </tr>\n",
       "    <tr>\n",
       "      <th>2000-01-01 01:00:00</th>\n",
       "      <td>12</td>\n",
       "      <td>1</td>\n",
       "    </tr>\n",
       "    <tr>\n",
       "      <th>2000-01-01 02:00:00</th>\n",
       "      <td>2</td>\n",
       "      <td>18</td>\n",
       "    </tr>\n",
       "    <tr>\n",
       "      <th>2000-01-01 03:00:00</th>\n",
       "      <td>16</td>\n",
       "      <td>12</td>\n",
       "    </tr>\n",
       "    <tr>\n",
       "      <th>2000-01-01 04:00:00</th>\n",
       "      <td>1</td>\n",
       "      <td>14</td>\n",
       "    </tr>\n",
       "    <tr>\n",
       "      <th>...</th>\n",
       "      <td>...</td>\n",
       "      <td>...</td>\n",
       "    </tr>\n",
       "    <tr>\n",
       "      <th>2000-12-30 19:00:00</th>\n",
       "      <td>18</td>\n",
       "      <td>2</td>\n",
       "    </tr>\n",
       "    <tr>\n",
       "      <th>2000-12-30 20:00:00</th>\n",
       "      <td>9</td>\n",
       "      <td>8</td>\n",
       "    </tr>\n",
       "    <tr>\n",
       "      <th>2000-12-30 21:00:00</th>\n",
       "      <td>8</td>\n",
       "      <td>4</td>\n",
       "    </tr>\n",
       "    <tr>\n",
       "      <th>2000-12-30 22:00:00</th>\n",
       "      <td>2</td>\n",
       "      <td>8</td>\n",
       "    </tr>\n",
       "    <tr>\n",
       "      <th>2000-12-30 23:00:00</th>\n",
       "      <td>2</td>\n",
       "      <td>14</td>\n",
       "    </tr>\n",
       "  </tbody>\n",
       "</table>\n",
       "<p>8760 rows × 2 columns</p>\n",
       "</div>"
      ],
      "text/plain": [
       "                     cols1  cols2\n",
       "2000-01-01 00:00:00      4      9\n",
       "2000-01-01 01:00:00     12      1\n",
       "2000-01-01 02:00:00      2     18\n",
       "2000-01-01 03:00:00     16     12\n",
       "2000-01-01 04:00:00      1     14\n",
       "...                    ...    ...\n",
       "2000-12-30 19:00:00     18      2\n",
       "2000-12-30 20:00:00      9      8\n",
       "2000-12-30 21:00:00      8      4\n",
       "2000-12-30 22:00:00      2      8\n",
       "2000-12-30 23:00:00      2     14\n",
       "\n",
       "[8760 rows x 2 columns]"
      ]
     },
     "execution_count": 38,
     "metadata": {},
     "output_type": "execute_result"
    }
   ],
   "source": [
    "n_rows = 365 * 24\n",
    "n_cols = 2\n",
    "cols = ['cols1','cols2']\n",
    "df = pd.DataFrame(np.random.randint(1, 20, size=(n_rows, n_cols)),\n",
    "                 columns=cols)\n",
    "df.index = pd.util.testing.makeDateIndex(n_rows, freq='H')\n",
    "df"
   ]
  },
  {
   "cell_type": "markdown",
   "id": "d4827c8e",
   "metadata": {},
   "source": [
    "### Resampling data dengan interval monthly"
   ]
  },
  {
   "cell_type": "code",
   "execution_count": 40,
   "id": "27e16712",
   "metadata": {},
   "outputs": [
    {
     "data": {
      "text/html": [
       "<div>\n",
       "<style scoped>\n",
       "    .dataframe tbody tr th:only-of-type {\n",
       "        vertical-align: middle;\n",
       "    }\n",
       "\n",
       "    .dataframe tbody tr th {\n",
       "        vertical-align: top;\n",
       "    }\n",
       "\n",
       "    .dataframe thead th {\n",
       "        text-align: right;\n",
       "    }\n",
       "</style>\n",
       "<table border=\"1\" class=\"dataframe\">\n",
       "  <thead>\n",
       "    <tr style=\"text-align: right;\">\n",
       "      <th></th>\n",
       "      <th>cols1</th>\n",
       "    </tr>\n",
       "  </thead>\n",
       "  <tbody>\n",
       "    <tr>\n",
       "      <th>2000-01-31</th>\n",
       "      <td>7654</td>\n",
       "    </tr>\n",
       "    <tr>\n",
       "      <th>2000-02-29</th>\n",
       "      <td>6958</td>\n",
       "    </tr>\n",
       "    <tr>\n",
       "      <th>2000-03-31</th>\n",
       "      <td>7275</td>\n",
       "    </tr>\n",
       "    <tr>\n",
       "      <th>2000-04-30</th>\n",
       "      <td>7082</td>\n",
       "    </tr>\n",
       "    <tr>\n",
       "      <th>2000-05-31</th>\n",
       "      <td>7307</td>\n",
       "    </tr>\n",
       "    <tr>\n",
       "      <th>2000-06-30</th>\n",
       "      <td>7277</td>\n",
       "    </tr>\n",
       "    <tr>\n",
       "      <th>2000-07-31</th>\n",
       "      <td>7372</td>\n",
       "    </tr>\n",
       "    <tr>\n",
       "      <th>2000-08-31</th>\n",
       "      <td>7287</td>\n",
       "    </tr>\n",
       "    <tr>\n",
       "      <th>2000-09-30</th>\n",
       "      <td>7133</td>\n",
       "    </tr>\n",
       "    <tr>\n",
       "      <th>2000-10-31</th>\n",
       "      <td>7499</td>\n",
       "    </tr>\n",
       "    <tr>\n",
       "      <th>2000-11-30</th>\n",
       "      <td>7384</td>\n",
       "    </tr>\n",
       "    <tr>\n",
       "      <th>2000-12-31</th>\n",
       "      <td>7236</td>\n",
       "    </tr>\n",
       "  </tbody>\n",
       "</table>\n",
       "</div>"
      ],
      "text/plain": [
       "            cols1\n",
       "2000-01-31   7654\n",
       "2000-02-29   6958\n",
       "2000-03-31   7275\n",
       "2000-04-30   7082\n",
       "2000-05-31   7307\n",
       "2000-06-30   7277\n",
       "2000-07-31   7372\n",
       "2000-08-31   7287\n",
       "2000-09-30   7133\n",
       "2000-10-31   7499\n",
       "2000-11-30   7384\n",
       "2000-12-31   7236"
      ]
     },
     "execution_count": 40,
     "metadata": {},
     "output_type": "execute_result"
    }
   ],
   "source": [
    "df.resample('M')['cols1'].sum().to_frame()"
   ]
  },
  {
   "cell_type": "markdown",
   "id": "12c17964",
   "metadata": {},
   "source": [
    "### Resampling data dengan interval daily"
   ]
  },
  {
   "cell_type": "code",
   "execution_count": 41,
   "id": "8121dee1",
   "metadata": {},
   "outputs": [
    {
     "data": {
      "text/html": [
       "<div>\n",
       "<style scoped>\n",
       "    .dataframe tbody tr th:only-of-type {\n",
       "        vertical-align: middle;\n",
       "    }\n",
       "\n",
       "    .dataframe tbody tr th {\n",
       "        vertical-align: top;\n",
       "    }\n",
       "\n",
       "    .dataframe thead th {\n",
       "        text-align: right;\n",
       "    }\n",
       "</style>\n",
       "<table border=\"1\" class=\"dataframe\">\n",
       "  <thead>\n",
       "    <tr style=\"text-align: right;\">\n",
       "      <th></th>\n",
       "      <th>cols1</th>\n",
       "    </tr>\n",
       "  </thead>\n",
       "  <tbody>\n",
       "    <tr>\n",
       "      <th>2000-01-01</th>\n",
       "      <td>215</td>\n",
       "    </tr>\n",
       "    <tr>\n",
       "      <th>2000-01-02</th>\n",
       "      <td>266</td>\n",
       "    </tr>\n",
       "    <tr>\n",
       "      <th>2000-01-03</th>\n",
       "      <td>260</td>\n",
       "    </tr>\n",
       "    <tr>\n",
       "      <th>2000-01-04</th>\n",
       "      <td>196</td>\n",
       "    </tr>\n",
       "    <tr>\n",
       "      <th>2000-01-05</th>\n",
       "      <td>284</td>\n",
       "    </tr>\n",
       "    <tr>\n",
       "      <th>...</th>\n",
       "      <td>...</td>\n",
       "    </tr>\n",
       "    <tr>\n",
       "      <th>2000-12-26</th>\n",
       "      <td>260</td>\n",
       "    </tr>\n",
       "    <tr>\n",
       "      <th>2000-12-27</th>\n",
       "      <td>239</td>\n",
       "    </tr>\n",
       "    <tr>\n",
       "      <th>2000-12-28</th>\n",
       "      <td>247</td>\n",
       "    </tr>\n",
       "    <tr>\n",
       "      <th>2000-12-29</th>\n",
       "      <td>239</td>\n",
       "    </tr>\n",
       "    <tr>\n",
       "      <th>2000-12-30</th>\n",
       "      <td>225</td>\n",
       "    </tr>\n",
       "  </tbody>\n",
       "</table>\n",
       "<p>365 rows × 1 columns</p>\n",
       "</div>"
      ],
      "text/plain": [
       "            cols1\n",
       "2000-01-01    215\n",
       "2000-01-02    266\n",
       "2000-01-03    260\n",
       "2000-01-04    196\n",
       "2000-01-05    284\n",
       "...           ...\n",
       "2000-12-26    260\n",
       "2000-12-27    239\n",
       "2000-12-28    247\n",
       "2000-12-29    239\n",
       "2000-12-30    225\n",
       "\n",
       "[365 rows x 1 columns]"
      ]
     },
     "execution_count": 41,
     "metadata": {},
     "output_type": "execute_result"
    }
   ],
   "source": [
    "df.resample('D')['cols1'].sum().to_frame()"
   ]
  },
  {
   "cell_type": "markdown",
   "id": "ded9b01a",
   "metadata": {},
   "source": [
    "## 18. Membentuk Dummy Data Frame"
   ]
  },
  {
   "cell_type": "markdown",
   "id": "45b7daeb",
   "metadata": {},
   "source": [
    "### Import Module"
   ]
  },
  {
   "cell_type": "code",
   "execution_count": 42,
   "id": "53841eca",
   "metadata": {},
   "outputs": [],
   "source": [
    "import pandas as pd\n",
    "import numpy as np"
   ]
  },
  {
   "cell_type": "markdown",
   "id": "ab228005",
   "metadata": {},
   "source": [
    "### Membentuk Data Frame dari Dictionary"
   ]
  },
  {
   "cell_type": "code",
   "execution_count": 43,
   "id": "b57c75e0",
   "metadata": {},
   "outputs": [
    {
     "data": {
      "text/html": [
       "<div>\n",
       "<style scoped>\n",
       "    .dataframe tbody tr th:only-of-type {\n",
       "        vertical-align: middle;\n",
       "    }\n",
       "\n",
       "    .dataframe tbody tr th {\n",
       "        vertical-align: top;\n",
       "    }\n",
       "\n",
       "    .dataframe thead th {\n",
       "        text-align: right;\n",
       "    }\n",
       "</style>\n",
       "<table border=\"1\" class=\"dataframe\">\n",
       "  <thead>\n",
       "    <tr style=\"text-align: right;\">\n",
       "      <th></th>\n",
       "      <th>col1</th>\n",
       "      <th>cols2</th>\n",
       "    </tr>\n",
       "  </thead>\n",
       "  <tbody>\n",
       "    <tr>\n",
       "      <th>0</th>\n",
       "      <td>1</td>\n",
       "      <td>5</td>\n",
       "    </tr>\n",
       "    <tr>\n",
       "      <th>1</th>\n",
       "      <td>2</td>\n",
       "      <td>6</td>\n",
       "    </tr>\n",
       "    <tr>\n",
       "      <th>2</th>\n",
       "      <td>3</td>\n",
       "      <td>7</td>\n",
       "    </tr>\n",
       "    <tr>\n",
       "      <th>3</th>\n",
       "      <td>4</td>\n",
       "      <td>8</td>\n",
       "    </tr>\n",
       "  </tbody>\n",
       "</table>\n",
       "</div>"
      ],
      "text/plain": [
       "   col1  cols2\n",
       "0     1      5\n",
       "1     2      6\n",
       "2     3      7\n",
       "3     4      8"
      ]
     },
     "execution_count": 43,
     "metadata": {},
     "output_type": "execute_result"
    }
   ],
   "source": [
    "pd.DataFrame({'col1':[1,2,3,4],\n",
    "             'cols2':[5,6,7,8]})"
   ]
  },
  {
   "cell_type": "markdown",
   "id": "aaccdc8b",
   "metadata": {},
   "source": [
    "### Membentuk Data Frame dari Numpy Array"
   ]
  },
  {
   "cell_type": "code",
   "execution_count": 44,
   "id": "83c683b1",
   "metadata": {},
   "outputs": [
    {
     "data": {
      "text/plain": [
       "array([[18, 17, 13],\n",
       "       [12, 19,  4],\n",
       "       [ 6, 12,  1],\n",
       "       [11,  6,  5],\n",
       "       [ 5, 17,  8]])"
      ]
     },
     "execution_count": 44,
     "metadata": {},
     "output_type": "execute_result"
    }
   ],
   "source": [
    "n_rows = 5\n",
    "n_cols = 3\n",
    "\n",
    "arr = np.random.randint(1, 20, size=(n_rows, n_cols))\n",
    "arr"
   ]
  },
  {
   "cell_type": "code",
   "execution_count": 45,
   "id": "09088d19",
   "metadata": {},
   "outputs": [
    {
     "data": {
      "text/html": [
       "<div>\n",
       "<style scoped>\n",
       "    .dataframe tbody tr th:only-of-type {\n",
       "        vertical-align: middle;\n",
       "    }\n",
       "\n",
       "    .dataframe tbody tr th {\n",
       "        vertical-align: top;\n",
       "    }\n",
       "\n",
       "    .dataframe thead th {\n",
       "        text-align: right;\n",
       "    }\n",
       "</style>\n",
       "<table border=\"1\" class=\"dataframe\">\n",
       "  <thead>\n",
       "    <tr style=\"text-align: right;\">\n",
       "      <th></th>\n",
       "      <th>A</th>\n",
       "      <th>B</th>\n",
       "      <th>C</th>\n",
       "    </tr>\n",
       "  </thead>\n",
       "  <tbody>\n",
       "    <tr>\n",
       "      <th>0</th>\n",
       "      <td>18</td>\n",
       "      <td>17</td>\n",
       "      <td>13</td>\n",
       "    </tr>\n",
       "    <tr>\n",
       "      <th>1</th>\n",
       "      <td>12</td>\n",
       "      <td>19</td>\n",
       "      <td>4</td>\n",
       "    </tr>\n",
       "    <tr>\n",
       "      <th>2</th>\n",
       "      <td>6</td>\n",
       "      <td>12</td>\n",
       "      <td>1</td>\n",
       "    </tr>\n",
       "    <tr>\n",
       "      <th>3</th>\n",
       "      <td>11</td>\n",
       "      <td>6</td>\n",
       "      <td>5</td>\n",
       "    </tr>\n",
       "    <tr>\n",
       "      <th>4</th>\n",
       "      <td>5</td>\n",
       "      <td>17</td>\n",
       "      <td>8</td>\n",
       "    </tr>\n",
       "  </tbody>\n",
       "</table>\n",
       "</div>"
      ],
      "text/plain": [
       "    A   B   C\n",
       "0  18  17  13\n",
       "1  12  19   4\n",
       "2   6  12   1\n",
       "3  11   6   5\n",
       "4   5  17   8"
      ]
     },
     "execution_count": 45,
     "metadata": {},
     "output_type": "execute_result"
    }
   ],
   "source": [
    "pd.DataFrame(arr, columns=tuple('ABC'))"
   ]
  },
  {
   "cell_type": "markdown",
   "id": "2d84b2f7",
   "metadata": {},
   "source": [
    "### Membentuk Data Frame dengan memanfaatkan pandas.util.testing"
   ]
  },
  {
   "cell_type": "code",
   "execution_count": 46,
   "id": "159a580a",
   "metadata": {},
   "outputs": [
    {
     "data": {
      "text/html": [
       "<div>\n",
       "<style scoped>\n",
       "    .dataframe tbody tr th:only-of-type {\n",
       "        vertical-align: middle;\n",
       "    }\n",
       "\n",
       "    .dataframe tbody tr th {\n",
       "        vertical-align: top;\n",
       "    }\n",
       "\n",
       "    .dataframe thead th {\n",
       "        text-align: right;\n",
       "    }\n",
       "</style>\n",
       "<table border=\"1\" class=\"dataframe\">\n",
       "  <thead>\n",
       "    <tr style=\"text-align: right;\">\n",
       "      <th></th>\n",
       "      <th>A</th>\n",
       "      <th>B</th>\n",
       "      <th>C</th>\n",
       "      <th>D</th>\n",
       "    </tr>\n",
       "  </thead>\n",
       "  <tbody>\n",
       "    <tr>\n",
       "      <th>PZQp7AaqyG</th>\n",
       "      <td>-0.196031</td>\n",
       "      <td>-0.371185</td>\n",
       "      <td>-1.278308</td>\n",
       "      <td>0.390945</td>\n",
       "    </tr>\n",
       "    <tr>\n",
       "      <th>jpJOVF4fUU</th>\n",
       "      <td>0.951290</td>\n",
       "      <td>-0.016730</td>\n",
       "      <td>-0.350068</td>\n",
       "      <td>-1.361544</td>\n",
       "    </tr>\n",
       "    <tr>\n",
       "      <th>pMBbzbStgm</th>\n",
       "      <td>-0.644307</td>\n",
       "      <td>1.892600</td>\n",
       "      <td>-0.622906</td>\n",
       "      <td>-0.398522</td>\n",
       "    </tr>\n",
       "    <tr>\n",
       "      <th>BwGd37PmY5</th>\n",
       "      <td>0.009392</td>\n",
       "      <td>0.638260</td>\n",
       "      <td>0.812346</td>\n",
       "      <td>-0.790147</td>\n",
       "    </tr>\n",
       "    <tr>\n",
       "      <th>amgFcp0Juw</th>\n",
       "      <td>-0.945952</td>\n",
       "      <td>-1.337463</td>\n",
       "      <td>0.396644</td>\n",
       "      <td>0.470135</td>\n",
       "    </tr>\n",
       "  </tbody>\n",
       "</table>\n",
       "</div>"
      ],
      "text/plain": [
       "                   A         B         C         D\n",
       "PZQp7AaqyG -0.196031 -0.371185 -1.278308  0.390945\n",
       "jpJOVF4fUU  0.951290 -0.016730 -0.350068 -1.361544\n",
       "pMBbzbStgm -0.644307  1.892600 -0.622906 -0.398522\n",
       "BwGd37PmY5  0.009392  0.638260  0.812346 -0.790147\n",
       "amgFcp0Juw -0.945952 -1.337463  0.396644  0.470135"
      ]
     },
     "execution_count": 46,
     "metadata": {},
     "output_type": "execute_result"
    }
   ],
   "source": [
    "pd.util.testing.makeDataFrame().head()"
   ]
  },
  {
   "cell_type": "code",
   "execution_count": 47,
   "id": "6027d70b",
   "metadata": {},
   "outputs": [
    {
     "data": {
      "text/html": [
       "<div>\n",
       "<style scoped>\n",
       "    .dataframe tbody tr th:only-of-type {\n",
       "        vertical-align: middle;\n",
       "    }\n",
       "\n",
       "    .dataframe tbody tr th {\n",
       "        vertical-align: top;\n",
       "    }\n",
       "\n",
       "    .dataframe thead th {\n",
       "        text-align: right;\n",
       "    }\n",
       "</style>\n",
       "<table border=\"1\" class=\"dataframe\">\n",
       "  <thead>\n",
       "    <tr style=\"text-align: right;\">\n",
       "      <th></th>\n",
       "      <th>A</th>\n",
       "      <th>B</th>\n",
       "      <th>C</th>\n",
       "      <th>D</th>\n",
       "    </tr>\n",
       "  </thead>\n",
       "  <tbody>\n",
       "    <tr>\n",
       "      <th>0</th>\n",
       "      <td>0.0</td>\n",
       "      <td>0.0</td>\n",
       "      <td>foo1</td>\n",
       "      <td>2009-01-01</td>\n",
       "    </tr>\n",
       "    <tr>\n",
       "      <th>1</th>\n",
       "      <td>1.0</td>\n",
       "      <td>1.0</td>\n",
       "      <td>foo2</td>\n",
       "      <td>2009-01-02</td>\n",
       "    </tr>\n",
       "    <tr>\n",
       "      <th>2</th>\n",
       "      <td>2.0</td>\n",
       "      <td>0.0</td>\n",
       "      <td>foo3</td>\n",
       "      <td>2009-01-05</td>\n",
       "    </tr>\n",
       "    <tr>\n",
       "      <th>3</th>\n",
       "      <td>3.0</td>\n",
       "      <td>1.0</td>\n",
       "      <td>foo4</td>\n",
       "      <td>2009-01-06</td>\n",
       "    </tr>\n",
       "    <tr>\n",
       "      <th>4</th>\n",
       "      <td>4.0</td>\n",
       "      <td>0.0</td>\n",
       "      <td>foo5</td>\n",
       "      <td>2009-01-07</td>\n",
       "    </tr>\n",
       "  </tbody>\n",
       "</table>\n",
       "</div>"
      ],
      "text/plain": [
       "     A    B     C          D\n",
       "0  0.0  0.0  foo1 2009-01-01\n",
       "1  1.0  1.0  foo2 2009-01-02\n",
       "2  2.0  0.0  foo3 2009-01-05\n",
       "3  3.0  1.0  foo4 2009-01-06\n",
       "4  4.0  0.0  foo5 2009-01-07"
      ]
     },
     "execution_count": 47,
     "metadata": {},
     "output_type": "execute_result"
    }
   ],
   "source": [
    "pd.util.testing.makeMixedDataFrame().head()"
   ]
  },
  {
   "cell_type": "code",
   "execution_count": 48,
   "id": "bd5f32ee",
   "metadata": {},
   "outputs": [
    {
     "data": {
      "text/html": [
       "<div>\n",
       "<style scoped>\n",
       "    .dataframe tbody tr th:only-of-type {\n",
       "        vertical-align: middle;\n",
       "    }\n",
       "\n",
       "    .dataframe tbody tr th {\n",
       "        vertical-align: top;\n",
       "    }\n",
       "\n",
       "    .dataframe thead th {\n",
       "        text-align: right;\n",
       "    }\n",
       "</style>\n",
       "<table border=\"1\" class=\"dataframe\">\n",
       "  <thead>\n",
       "    <tr style=\"text-align: right;\">\n",
       "      <th></th>\n",
       "      <th>A</th>\n",
       "      <th>B</th>\n",
       "      <th>C</th>\n",
       "      <th>D</th>\n",
       "    </tr>\n",
       "  </thead>\n",
       "  <tbody>\n",
       "    <tr>\n",
       "      <th>2000-01-03</th>\n",
       "      <td>-2.345201</td>\n",
       "      <td>-2.390399</td>\n",
       "      <td>-0.739378</td>\n",
       "      <td>-0.619492</td>\n",
       "    </tr>\n",
       "    <tr>\n",
       "      <th>2000-01-04</th>\n",
       "      <td>-0.808023</td>\n",
       "      <td>-1.600474</td>\n",
       "      <td>0.450608</td>\n",
       "      <td>-1.819533</td>\n",
       "    </tr>\n",
       "    <tr>\n",
       "      <th>2000-01-05</th>\n",
       "      <td>0.098261</td>\n",
       "      <td>1.165017</td>\n",
       "      <td>-0.397731</td>\n",
       "      <td>-1.588115</td>\n",
       "    </tr>\n",
       "    <tr>\n",
       "      <th>2000-01-06</th>\n",
       "      <td>-0.396154</td>\n",
       "      <td>0.189728</td>\n",
       "      <td>-1.059227</td>\n",
       "      <td>0.315472</td>\n",
       "    </tr>\n",
       "    <tr>\n",
       "      <th>2000-01-07</th>\n",
       "      <td>-0.306160</td>\n",
       "      <td>-0.587552</td>\n",
       "      <td>0.487592</td>\n",
       "      <td>-0.890144</td>\n",
       "    </tr>\n",
       "  </tbody>\n",
       "</table>\n",
       "</div>"
      ],
      "text/plain": [
       "                   A         B         C         D\n",
       "2000-01-03 -2.345201 -2.390399 -0.739378 -0.619492\n",
       "2000-01-04 -0.808023 -1.600474  0.450608 -1.819533\n",
       "2000-01-05  0.098261  1.165017 -0.397731 -1.588115\n",
       "2000-01-06 -0.396154  0.189728 -1.059227  0.315472\n",
       "2000-01-07 -0.306160 -0.587552  0.487592 -0.890144"
      ]
     },
     "execution_count": 48,
     "metadata": {},
     "output_type": "execute_result"
    }
   ],
   "source": [
    "pd.util.testing.makeTimeDataFrame().head()"
   ]
  },
  {
   "cell_type": "code",
   "execution_count": 50,
   "id": "96f5a577",
   "metadata": {},
   "outputs": [
    {
     "data": {
      "text/html": [
       "<div>\n",
       "<style scoped>\n",
       "    .dataframe tbody tr th:only-of-type {\n",
       "        vertical-align: middle;\n",
       "    }\n",
       "\n",
       "    .dataframe tbody tr th {\n",
       "        vertical-align: top;\n",
       "    }\n",
       "\n",
       "    .dataframe thead th {\n",
       "        text-align: right;\n",
       "    }\n",
       "</style>\n",
       "<table border=\"1\" class=\"dataframe\">\n",
       "  <thead>\n",
       "    <tr style=\"text-align: right;\">\n",
       "      <th></th>\n",
       "      <th>A</th>\n",
       "      <th>B</th>\n",
       "      <th>C</th>\n",
       "      <th>D</th>\n",
       "    </tr>\n",
       "  </thead>\n",
       "  <tbody>\n",
       "    <tr>\n",
       "      <th>DIZFweAchc</th>\n",
       "      <td>2.049627</td>\n",
       "      <td>-0.850607</td>\n",
       "      <td>0.296212</td>\n",
       "      <td>0.198373</td>\n",
       "    </tr>\n",
       "    <tr>\n",
       "      <th>cMpXAKFi3C</th>\n",
       "      <td>-0.651282</td>\n",
       "      <td>NaN</td>\n",
       "      <td>0.834527</td>\n",
       "      <td>1.880631</td>\n",
       "    </tr>\n",
       "    <tr>\n",
       "      <th>Z1qxFnIIXr</th>\n",
       "      <td>-0.934350</td>\n",
       "      <td>1.517181</td>\n",
       "      <td>2.498464</td>\n",
       "      <td>-0.465914</td>\n",
       "    </tr>\n",
       "    <tr>\n",
       "      <th>4gKn97rQkq</th>\n",
       "      <td>-0.233389</td>\n",
       "      <td>-1.953904</td>\n",
       "      <td>1.752349</td>\n",
       "      <td>-0.267251</td>\n",
       "    </tr>\n",
       "    <tr>\n",
       "      <th>cNAPoQkZSs</th>\n",
       "      <td>-0.707511</td>\n",
       "      <td>0.884955</td>\n",
       "      <td>0.710239</td>\n",
       "      <td>-1.138822</td>\n",
       "    </tr>\n",
       "  </tbody>\n",
       "</table>\n",
       "</div>"
      ],
      "text/plain": [
       "                   A         B         C         D\n",
       "DIZFweAchc  2.049627 -0.850607  0.296212  0.198373\n",
       "cMpXAKFi3C -0.651282       NaN  0.834527  1.880631\n",
       "Z1qxFnIIXr -0.934350  1.517181  2.498464 -0.465914\n",
       "4gKn97rQkq -0.233389 -1.953904  1.752349 -0.267251\n",
       "cNAPoQkZSs -0.707511  0.884955  0.710239 -1.138822"
      ]
     },
     "execution_count": 50,
     "metadata": {},
     "output_type": "execute_result"
    }
   ],
   "source": [
    "pd.util.testing.makeMissingDataframe().head()"
   ]
  },
  {
   "cell_type": "markdown",
   "id": "7d9e9575",
   "metadata": {},
   "source": [
    "## 19. Formatting tampilan Data Frame"
   ]
  },
  {
   "cell_type": "markdown",
   "id": "e7fbf805",
   "metadata": {},
   "source": [
    "### Import Module"
   ]
  },
  {
   "cell_type": "code",
   "execution_count": 51,
   "id": "d739f1f4",
   "metadata": {},
   "outputs": [],
   "source": [
    "import pandas as pd\n",
    "import numpy as np"
   ]
  },
  {
   "cell_type": "markdown",
   "id": "506aa1c6",
   "metadata": {},
   "source": [
    "### Persiapan Data Frame"
   ]
  },
  {
   "cell_type": "code",
   "execution_count": 52,
   "id": "109d33b7",
   "metadata": {},
   "outputs": [
    {
     "data": {
      "text/html": [
       "<div>\n",
       "<style scoped>\n",
       "    .dataframe tbody tr th:only-of-type {\n",
       "        vertical-align: middle;\n",
       "    }\n",
       "\n",
       "    .dataframe tbody tr th {\n",
       "        vertical-align: top;\n",
       "    }\n",
       "\n",
       "    .dataframe thead th {\n",
       "        text-align: right;\n",
       "    }\n",
       "</style>\n",
       "<table border=\"1\" class=\"dataframe\">\n",
       "  <thead>\n",
       "    <tr style=\"text-align: right;\">\n",
       "      <th></th>\n",
       "      <th>omset</th>\n",
       "      <th>operasional</th>\n",
       "    </tr>\n",
       "  </thead>\n",
       "  <tbody>\n",
       "    <tr>\n",
       "      <th>0</th>\n",
       "      <td>7</td>\n",
       "      <td>16</td>\n",
       "    </tr>\n",
       "    <tr>\n",
       "      <th>1</th>\n",
       "      <td>5</td>\n",
       "      <td>5</td>\n",
       "    </tr>\n",
       "    <tr>\n",
       "      <th>2</th>\n",
       "      <td>13</td>\n",
       "      <td>15</td>\n",
       "    </tr>\n",
       "    <tr>\n",
       "      <th>3</th>\n",
       "      <td>18</td>\n",
       "      <td>15</td>\n",
       "    </tr>\n",
       "    <tr>\n",
       "      <th>4</th>\n",
       "      <td>10</td>\n",
       "      <td>17</td>\n",
       "    </tr>\n",
       "  </tbody>\n",
       "</table>\n",
       "</div>"
      ],
      "text/plain": [
       "   omset  operasional\n",
       "0      7           16\n",
       "1      5            5\n",
       "2     13           15\n",
       "3     18           15\n",
       "4     10           17"
      ]
     },
     "execution_count": 52,
     "metadata": {},
     "output_type": "execute_result"
    }
   ],
   "source": [
    "n_rows = 5\n",
    "n_cols = 2\n",
    "cols = ['omset','operasional']\n",
    "df = pd.DataFrame(np.random.randint(1, 20, size=(n_rows, n_cols)),\n",
    "                 columns=cols)\n",
    "df"
   ]
  },
  {
   "cell_type": "code",
   "execution_count": 54,
   "id": "f75c7fa8",
   "metadata": {},
   "outputs": [
    {
     "data": {
      "text/html": [
       "<div>\n",
       "<style scoped>\n",
       "    .dataframe tbody tr th:only-of-type {\n",
       "        vertical-align: middle;\n",
       "    }\n",
       "\n",
       "    .dataframe tbody tr th {\n",
       "        vertical-align: top;\n",
       "    }\n",
       "\n",
       "    .dataframe thead th {\n",
       "        text-align: right;\n",
       "    }\n",
       "</style>\n",
       "<table border=\"1\" class=\"dataframe\">\n",
       "  <thead>\n",
       "    <tr style=\"text-align: right;\">\n",
       "      <th></th>\n",
       "      <th>omset</th>\n",
       "      <th>operasional</th>\n",
       "    </tr>\n",
       "  </thead>\n",
       "  <tbody>\n",
       "    <tr>\n",
       "      <th>0</th>\n",
       "      <td>700000</td>\n",
       "      <td>160000</td>\n",
       "    </tr>\n",
       "    <tr>\n",
       "      <th>1</th>\n",
       "      <td>500000</td>\n",
       "      <td>50000</td>\n",
       "    </tr>\n",
       "    <tr>\n",
       "      <th>2</th>\n",
       "      <td>1300000</td>\n",
       "      <td>150000</td>\n",
       "    </tr>\n",
       "    <tr>\n",
       "      <th>3</th>\n",
       "      <td>1800000</td>\n",
       "      <td>150000</td>\n",
       "    </tr>\n",
       "    <tr>\n",
       "      <th>4</th>\n",
       "      <td>1000000</td>\n",
       "      <td>170000</td>\n",
       "    </tr>\n",
       "  </tbody>\n",
       "</table>\n",
       "</div>"
      ],
      "text/plain": [
       "     omset  operasional\n",
       "0   700000       160000\n",
       "1   500000        50000\n",
       "2  1300000       150000\n",
       "3  1800000       150000\n",
       "4  1000000       170000"
      ]
     },
     "execution_count": 54,
     "metadata": {},
     "output_type": "execute_result"
    }
   ],
   "source": [
    "df['omset'] = df['omset'] * 100_000\n",
    "df['operasional'] = df['operasional'] * 10_000\n",
    "df"
   ]
  },
  {
   "cell_type": "code",
   "execution_count": 55,
   "id": "0c111b5c",
   "metadata": {},
   "outputs": [
    {
     "data": {
      "text/html": [
       "<div>\n",
       "<style scoped>\n",
       "    .dataframe tbody tr th:only-of-type {\n",
       "        vertical-align: middle;\n",
       "    }\n",
       "\n",
       "    .dataframe tbody tr th {\n",
       "        vertical-align: top;\n",
       "    }\n",
       "\n",
       "    .dataframe thead th {\n",
       "        text-align: right;\n",
       "    }\n",
       "</style>\n",
       "<table border=\"1\" class=\"dataframe\">\n",
       "  <thead>\n",
       "    <tr style=\"text-align: right;\">\n",
       "      <th></th>\n",
       "      <th>tanggal</th>\n",
       "      <th>omset</th>\n",
       "      <th>operasional</th>\n",
       "    </tr>\n",
       "  </thead>\n",
       "  <tbody>\n",
       "    <tr>\n",
       "      <th>0</th>\n",
       "      <td>2000-01-01</td>\n",
       "      <td>700000</td>\n",
       "      <td>160000</td>\n",
       "    </tr>\n",
       "    <tr>\n",
       "      <th>1</th>\n",
       "      <td>2000-01-02</td>\n",
       "      <td>500000</td>\n",
       "      <td>50000</td>\n",
       "    </tr>\n",
       "    <tr>\n",
       "      <th>2</th>\n",
       "      <td>2000-01-03</td>\n",
       "      <td>1300000</td>\n",
       "      <td>150000</td>\n",
       "    </tr>\n",
       "    <tr>\n",
       "      <th>3</th>\n",
       "      <td>2000-01-04</td>\n",
       "      <td>1800000</td>\n",
       "      <td>150000</td>\n",
       "    </tr>\n",
       "    <tr>\n",
       "      <th>4</th>\n",
       "      <td>2000-01-05</td>\n",
       "      <td>1000000</td>\n",
       "      <td>170000</td>\n",
       "    </tr>\n",
       "  </tbody>\n",
       "</table>\n",
       "</div>"
      ],
      "text/plain": [
       "     tanggal    omset  operasional\n",
       "0 2000-01-01   700000       160000\n",
       "1 2000-01-02   500000        50000\n",
       "2 2000-01-03  1300000       150000\n",
       "3 2000-01-04  1800000       150000\n",
       "4 2000-01-05  1000000       170000"
      ]
     },
     "execution_count": 55,
     "metadata": {},
     "output_type": "execute_result"
    }
   ],
   "source": [
    "df.index = pd.util.testing.makeDateIndex(n_rows, freq='D')\n",
    "df = df.reset_index()\n",
    "df = df.rename(columns={'index':'tanggal'})\n",
    "df"
   ]
  },
  {
   "cell_type": "markdown",
   "id": "f6665dfd",
   "metadata": {},
   "source": [
    "### Melakukan Formatting tampilan Data Frame"
   ]
  },
  {
   "cell_type": "code",
   "execution_count": 62,
   "id": "5002c961",
   "metadata": {},
   "outputs": [
    {
     "data": {
      "text/html": [
       "<style type=\"text/css\">\n",
       "</style>\n",
       "<table id=\"T_ed2ca_\">\n",
       "  <thead>\n",
       "    <tr>\n",
       "      <th class=\"blank level0\" >&nbsp;</th>\n",
       "      <th class=\"col_heading level0 col0\" >tanggal</th>\n",
       "      <th class=\"col_heading level0 col1\" >omset</th>\n",
       "      <th class=\"col_heading level0 col2\" >operasional</th>\n",
       "    </tr>\n",
       "  </thead>\n",
       "  <tbody>\n",
       "    <tr>\n",
       "      <th id=\"T_ed2ca_level0_row0\" class=\"row_heading level0 row0\" >0</th>\n",
       "      <td id=\"T_ed2ca_row0_col0\" class=\"data row0 col0\" >01/01/00</td>\n",
       "      <td id=\"T_ed2ca_row0_col1\" class=\"data row0 col1\" >Rp 700000.00</td>\n",
       "      <td id=\"T_ed2ca_row0_col2\" class=\"data row0 col2\" >Rp 160000.00</td>\n",
       "    </tr>\n",
       "    <tr>\n",
       "      <th id=\"T_ed2ca_level0_row1\" class=\"row_heading level0 row1\" >1</th>\n",
       "      <td id=\"T_ed2ca_row1_col0\" class=\"data row1 col0\" >02/01/00</td>\n",
       "      <td id=\"T_ed2ca_row1_col1\" class=\"data row1 col1\" >Rp 500000.00</td>\n",
       "      <td id=\"T_ed2ca_row1_col2\" class=\"data row1 col2\" >Rp 50000.00</td>\n",
       "    </tr>\n",
       "    <tr>\n",
       "      <th id=\"T_ed2ca_level0_row2\" class=\"row_heading level0 row2\" >2</th>\n",
       "      <td id=\"T_ed2ca_row2_col0\" class=\"data row2 col0\" >03/01/00</td>\n",
       "      <td id=\"T_ed2ca_row2_col1\" class=\"data row2 col1\" >Rp 1300000.00</td>\n",
       "      <td id=\"T_ed2ca_row2_col2\" class=\"data row2 col2\" >Rp 150000.00</td>\n",
       "    </tr>\n",
       "    <tr>\n",
       "      <th id=\"T_ed2ca_level0_row3\" class=\"row_heading level0 row3\" >3</th>\n",
       "      <td id=\"T_ed2ca_row3_col0\" class=\"data row3 col0\" >04/01/00</td>\n",
       "      <td id=\"T_ed2ca_row3_col1\" class=\"data row3 col1\" >Rp 1800000.00</td>\n",
       "      <td id=\"T_ed2ca_row3_col2\" class=\"data row3 col2\" >Rp 150000.00</td>\n",
       "    </tr>\n",
       "    <tr>\n",
       "      <th id=\"T_ed2ca_level0_row4\" class=\"row_heading level0 row4\" >4</th>\n",
       "      <td id=\"T_ed2ca_row4_col0\" class=\"data row4 col0\" >05/01/00</td>\n",
       "      <td id=\"T_ed2ca_row4_col1\" class=\"data row4 col1\" >Rp 1000000.00</td>\n",
       "      <td id=\"T_ed2ca_row4_col2\" class=\"data row4 col2\" >Rp 170000.00</td>\n",
       "    </tr>\n",
       "  </tbody>\n",
       "</table>\n"
      ],
      "text/plain": [
       "<pandas.io.formats.style.Styler at 0x1ffceb8a160>"
      ]
     },
     "execution_count": 62,
     "metadata": {},
     "output_type": "execute_result"
    }
   ],
   "source": [
    "formatku = {'tanggal':'{:%d/%m/%y}',\n",
    "           'operasional':'Rp {:.2f}',\n",
    "           'omset':'Rp {:.2f}'}\n",
    "laporan = df.style.format(formatku)\n",
    "laporan"
   ]
  },
  {
   "cell_type": "code",
   "execution_count": 58,
   "id": "6ad898d6",
   "metadata": {},
   "outputs": [
    {
     "data": {
      "text/plain": [
       "pandas.io.formats.style.Styler"
      ]
     },
     "execution_count": 58,
     "metadata": {},
     "output_type": "execute_result"
    }
   ],
   "source": [
    "type(laporan)"
   ]
  },
  {
   "cell_type": "code",
   "execution_count": 59,
   "id": "dca82f67",
   "metadata": {},
   "outputs": [
    {
     "data": {
      "text/html": [
       "<style type=\"text/css\">\n",
       "</style>\n",
       "<table id=\"T_ca084_\">\n",
       "  <thead>\n",
       "    <tr>\n",
       "      <th class=\"col_heading level0 col0\" >tanggal</th>\n",
       "      <th class=\"col_heading level0 col1\" >omset</th>\n",
       "      <th class=\"col_heading level0 col2\" >operasional</th>\n",
       "    </tr>\n",
       "  </thead>\n",
       "  <tbody>\n",
       "    <tr>\n",
       "      <td id=\"T_ca084_row0_col0\" class=\"data row0 col0\" >01/01/00</td>\n",
       "      <td id=\"T_ca084_row0_col1\" class=\"data row0 col1\" >Rp 700000.00</td>\n",
       "      <td id=\"T_ca084_row0_col2\" class=\"data row0 col2\" >Rp 160000.00</td>\n",
       "    </tr>\n",
       "    <tr>\n",
       "      <td id=\"T_ca084_row1_col0\" class=\"data row1 col0\" >02/01/00</td>\n",
       "      <td id=\"T_ca084_row1_col1\" class=\"data row1 col1\" >Rp 500000.00</td>\n",
       "      <td id=\"T_ca084_row1_col2\" class=\"data row1 col2\" >Rp 50000.00</td>\n",
       "    </tr>\n",
       "    <tr>\n",
       "      <td id=\"T_ca084_row2_col0\" class=\"data row2 col0\" >03/01/00</td>\n",
       "      <td id=\"T_ca084_row2_col1\" class=\"data row2 col1\" >Rp 1300000.00</td>\n",
       "      <td id=\"T_ca084_row2_col2\" class=\"data row2 col2\" >Rp 150000.00</td>\n",
       "    </tr>\n",
       "    <tr>\n",
       "      <td id=\"T_ca084_row3_col0\" class=\"data row3 col0\" >04/01/00</td>\n",
       "      <td id=\"T_ca084_row3_col1\" class=\"data row3 col1\" >Rp 1800000.00</td>\n",
       "      <td id=\"T_ca084_row3_col2\" class=\"data row3 col2\" >Rp 150000.00</td>\n",
       "    </tr>\n",
       "    <tr>\n",
       "      <td id=\"T_ca084_row4_col0\" class=\"data row4 col0\" >05/01/00</td>\n",
       "      <td id=\"T_ca084_row4_col1\" class=\"data row4 col1\" >Rp 1000000.00</td>\n",
       "      <td id=\"T_ca084_row4_col2\" class=\"data row4 col2\" >Rp 170000.00</td>\n",
       "    </tr>\n",
       "  </tbody>\n",
       "</table>\n"
      ],
      "text/plain": [
       "<pandas.io.formats.style.Styler at 0x1ffcebb7430>"
      ]
     },
     "execution_count": 59,
     "metadata": {},
     "output_type": "execute_result"
    }
   ],
   "source": [
    "laporan.hide_index()"
   ]
  },
  {
   "cell_type": "code",
   "execution_count": 60,
   "id": "1dc814c0",
   "metadata": {},
   "outputs": [
    {
     "data": {
      "text/html": [
       "<style type=\"text/css\">\n",
       "</style>\n",
       "<table id=\"T_ca084_\">\n",
       "  <caption>Data Omset dan Operasional</caption>\n",
       "  <thead>\n",
       "    <tr>\n",
       "      <th class=\"col_heading level0 col0\" >tanggal</th>\n",
       "      <th class=\"col_heading level0 col1\" >omset</th>\n",
       "      <th class=\"col_heading level0 col2\" >operasional</th>\n",
       "    </tr>\n",
       "  </thead>\n",
       "  <tbody>\n",
       "    <tr>\n",
       "      <td id=\"T_ca084_row0_col0\" class=\"data row0 col0\" >01/01/00</td>\n",
       "      <td id=\"T_ca084_row0_col1\" class=\"data row0 col1\" >Rp 700000.00</td>\n",
       "      <td id=\"T_ca084_row0_col2\" class=\"data row0 col2\" >Rp 160000.00</td>\n",
       "    </tr>\n",
       "    <tr>\n",
       "      <td id=\"T_ca084_row1_col0\" class=\"data row1 col0\" >02/01/00</td>\n",
       "      <td id=\"T_ca084_row1_col1\" class=\"data row1 col1\" >Rp 500000.00</td>\n",
       "      <td id=\"T_ca084_row1_col2\" class=\"data row1 col2\" >Rp 50000.00</td>\n",
       "    </tr>\n",
       "    <tr>\n",
       "      <td id=\"T_ca084_row2_col0\" class=\"data row2 col0\" >03/01/00</td>\n",
       "      <td id=\"T_ca084_row2_col1\" class=\"data row2 col1\" >Rp 1300000.00</td>\n",
       "      <td id=\"T_ca084_row2_col2\" class=\"data row2 col2\" >Rp 150000.00</td>\n",
       "    </tr>\n",
       "    <tr>\n",
       "      <td id=\"T_ca084_row3_col0\" class=\"data row3 col0\" >04/01/00</td>\n",
       "      <td id=\"T_ca084_row3_col1\" class=\"data row3 col1\" >Rp 1800000.00</td>\n",
       "      <td id=\"T_ca084_row3_col2\" class=\"data row3 col2\" >Rp 150000.00</td>\n",
       "    </tr>\n",
       "    <tr>\n",
       "      <td id=\"T_ca084_row4_col0\" class=\"data row4 col0\" >05/01/00</td>\n",
       "      <td id=\"T_ca084_row4_col1\" class=\"data row4 col1\" >Rp 1000000.00</td>\n",
       "      <td id=\"T_ca084_row4_col2\" class=\"data row4 col2\" >Rp 170000.00</td>\n",
       "    </tr>\n",
       "  </tbody>\n",
       "</table>\n"
      ],
      "text/plain": [
       "<pandas.io.formats.style.Styler at 0x1ffcebb7430>"
      ]
     },
     "execution_count": 60,
     "metadata": {},
     "output_type": "execute_result"
    }
   ],
   "source": [
    "laporan.set_caption('Data Omset dan Operasional')"
   ]
  },
  {
   "cell_type": "code",
   "execution_count": 65,
   "id": "2924d2a4",
   "metadata": {},
   "outputs": [
    {
     "data": {
      "text/html": [
       "<style type=\"text/css\">\n",
       "#T_ed2ca_row1_col1 {\n",
       "  background-color: pink;\n",
       "}\n",
       "#T_ed2ca_row1_col2 {\n",
       "  background-color: lightblue;\n",
       "}\n",
       "#T_ed2ca_row3_col1 {\n",
       "  background-color: lightgreen;\n",
       "}\n",
       "#T_ed2ca_row4_col2 {\n",
       "  background-color: grey;\n",
       "}\n",
       "</style>\n",
       "<table id=\"T_ed2ca_\">\n",
       "  <thead>\n",
       "    <tr>\n",
       "      <th class=\"blank level0\" >&nbsp;</th>\n",
       "      <th class=\"col_heading level0 col0\" >tanggal</th>\n",
       "      <th class=\"col_heading level0 col1\" >omset</th>\n",
       "      <th class=\"col_heading level0 col2\" >operasional</th>\n",
       "    </tr>\n",
       "  </thead>\n",
       "  <tbody>\n",
       "    <tr>\n",
       "      <th id=\"T_ed2ca_level0_row0\" class=\"row_heading level0 row0\" >0</th>\n",
       "      <td id=\"T_ed2ca_row0_col0\" class=\"data row0 col0\" >01/01/00</td>\n",
       "      <td id=\"T_ed2ca_row0_col1\" class=\"data row0 col1\" >Rp 700000.00</td>\n",
       "      <td id=\"T_ed2ca_row0_col2\" class=\"data row0 col2\" >Rp 160000.00</td>\n",
       "    </tr>\n",
       "    <tr>\n",
       "      <th id=\"T_ed2ca_level0_row1\" class=\"row_heading level0 row1\" >1</th>\n",
       "      <td id=\"T_ed2ca_row1_col0\" class=\"data row1 col0\" >02/01/00</td>\n",
       "      <td id=\"T_ed2ca_row1_col1\" class=\"data row1 col1\" >Rp 500000.00</td>\n",
       "      <td id=\"T_ed2ca_row1_col2\" class=\"data row1 col2\" >Rp 50000.00</td>\n",
       "    </tr>\n",
       "    <tr>\n",
       "      <th id=\"T_ed2ca_level0_row2\" class=\"row_heading level0 row2\" >2</th>\n",
       "      <td id=\"T_ed2ca_row2_col0\" class=\"data row2 col0\" >03/01/00</td>\n",
       "      <td id=\"T_ed2ca_row2_col1\" class=\"data row2 col1\" >Rp 1300000.00</td>\n",
       "      <td id=\"T_ed2ca_row2_col2\" class=\"data row2 col2\" >Rp 150000.00</td>\n",
       "    </tr>\n",
       "    <tr>\n",
       "      <th id=\"T_ed2ca_level0_row3\" class=\"row_heading level0 row3\" >3</th>\n",
       "      <td id=\"T_ed2ca_row3_col0\" class=\"data row3 col0\" >04/01/00</td>\n",
       "      <td id=\"T_ed2ca_row3_col1\" class=\"data row3 col1\" >Rp 1800000.00</td>\n",
       "      <td id=\"T_ed2ca_row3_col2\" class=\"data row3 col2\" >Rp 150000.00</td>\n",
       "    </tr>\n",
       "    <tr>\n",
       "      <th id=\"T_ed2ca_level0_row4\" class=\"row_heading level0 row4\" >4</th>\n",
       "      <td id=\"T_ed2ca_row4_col0\" class=\"data row4 col0\" >05/01/00</td>\n",
       "      <td id=\"T_ed2ca_row4_col1\" class=\"data row4 col1\" >Rp 1000000.00</td>\n",
       "      <td id=\"T_ed2ca_row4_col2\" class=\"data row4 col2\" >Rp 170000.00</td>\n",
       "    </tr>\n",
       "  </tbody>\n",
       "</table>\n"
      ],
      "text/plain": [
       "<pandas.io.formats.style.Styler at 0x1ffceb8a160>"
      ]
     },
     "execution_count": 65,
     "metadata": {},
     "output_type": "execute_result"
    }
   ],
   "source": [
    "laporan.highlight_min('omset', color='pink')\n",
    "laporan.highlight_max('omset', color='lightgreen')\n",
    "\n",
    "laporan.highlight_min('operasional', color='lightblue')\n",
    "laporan.highlight_max('operasional', color='grey')"
   ]
  },
  {
   "cell_type": "markdown",
   "id": "0405b221",
   "metadata": {},
   "source": [
    "## 20. Menggabungkan (merge) dua Data Frame secara berdampingan"
   ]
  },
  {
   "cell_type": "markdown",
   "id": "2fcc719c",
   "metadata": {},
   "source": [
    "### Import Module"
   ]
  },
  {
   "cell_type": "code",
   "execution_count": null,
   "id": "5b6233ad",
   "metadata": {},
   "outputs": [],
   "source": [
    "import pandas as pd"
   ]
  },
  {
   "cell_type": "markdown",
   "id": "96421991",
   "metadata": {},
   "source": [
    "### Persiapan Data Frame"
   ]
  },
  {
   "cell_type": "code",
   "execution_count": 66,
   "id": "b089900f",
   "metadata": {},
   "outputs": [
    {
     "data": {
      "text/html": [
       "<div>\n",
       "<style scoped>\n",
       "    .dataframe tbody tr th:only-of-type {\n",
       "        vertical-align: middle;\n",
       "    }\n",
       "\n",
       "    .dataframe tbody tr th {\n",
       "        vertical-align: top;\n",
       "    }\n",
       "\n",
       "    .dataframe thead th {\n",
       "        text-align: right;\n",
       "    }\n",
       "</style>\n",
       "<table border=\"1\" class=\"dataframe\">\n",
       "  <thead>\n",
       "    <tr style=\"text-align: right;\">\n",
       "      <th></th>\n",
       "      <th>col1</th>\n",
       "      <th>col2</th>\n",
       "    </tr>\n",
       "  </thead>\n",
       "  <tbody>\n",
       "    <tr>\n",
       "      <th>0</th>\n",
       "      <td>1</td>\n",
       "      <td>10</td>\n",
       "    </tr>\n",
       "    <tr>\n",
       "      <th>1</th>\n",
       "      <td>2</td>\n",
       "      <td>20</td>\n",
       "    </tr>\n",
       "    <tr>\n",
       "      <th>2</th>\n",
       "      <td>3</td>\n",
       "      <td>30</td>\n",
       "    </tr>\n",
       "  </tbody>\n",
       "</table>\n",
       "</div>"
      ],
      "text/plain": [
       "   col1  col2\n",
       "0     1    10\n",
       "1     2    20\n",
       "2     3    30"
      ]
     },
     "execution_count": 66,
     "metadata": {},
     "output_type": "execute_result"
    }
   ],
   "source": [
    "d1 = {'col1':[1,2,3],\n",
    "     'col2':[10, 20, 30]}\n",
    "df1 = pd.DataFrame(d1)\n",
    "df1"
   ]
  },
  {
   "cell_type": "code",
   "execution_count": 67,
   "id": "53faa252",
   "metadata": {},
   "outputs": [
    {
     "data": {
      "text/html": [
       "<div>\n",
       "<style scoped>\n",
       "    .dataframe tbody tr th:only-of-type {\n",
       "        vertical-align: middle;\n",
       "    }\n",
       "\n",
       "    .dataframe tbody tr th {\n",
       "        vertical-align: top;\n",
       "    }\n",
       "\n",
       "    .dataframe thead th {\n",
       "        text-align: right;\n",
       "    }\n",
       "</style>\n",
       "<table border=\"1\" class=\"dataframe\">\n",
       "  <thead>\n",
       "    <tr style=\"text-align: right;\">\n",
       "      <th></th>\n",
       "      <th>col3</th>\n",
       "      <th>col4</th>\n",
       "    </tr>\n",
       "  </thead>\n",
       "  <tbody>\n",
       "    <tr>\n",
       "      <th>0</th>\n",
       "      <td>4</td>\n",
       "      <td>40</td>\n",
       "    </tr>\n",
       "    <tr>\n",
       "      <th>1</th>\n",
       "      <td>5</td>\n",
       "      <td>50</td>\n",
       "    </tr>\n",
       "    <tr>\n",
       "      <th>2</th>\n",
       "      <td>6</td>\n",
       "      <td>60</td>\n",
       "    </tr>\n",
       "  </tbody>\n",
       "</table>\n",
       "</div>"
      ],
      "text/plain": [
       "   col3  col4\n",
       "0     4    40\n",
       "1     5    50\n",
       "2     6    60"
      ]
     },
     "execution_count": 67,
     "metadata": {},
     "output_type": "execute_result"
    }
   ],
   "source": [
    "d2 = {'col3':[4,5,6],\n",
    "     'col4':[40, 50, 60]}\n",
    "df2 = pd.DataFrame(d2)\n",
    "df2"
   ]
  },
  {
   "cell_type": "markdown",
   "id": "6f5d0798",
   "metadata": {},
   "source": [
    "### Menggabungkan (merge) dua Data Frame secara berdampingan"
   ]
  },
  {
   "cell_type": "code",
   "execution_count": 71,
   "id": "de7d7f62",
   "metadata": {},
   "outputs": [
    {
     "data": {
      "text/html": [
       "<div>\n",
       "<style scoped>\n",
       "    .dataframe tbody tr th:only-of-type {\n",
       "        vertical-align: middle;\n",
       "    }\n",
       "\n",
       "    .dataframe tbody tr th {\n",
       "        vertical-align: top;\n",
       "    }\n",
       "\n",
       "    .dataframe thead th {\n",
       "        text-align: right;\n",
       "    }\n",
       "</style>\n",
       "<table border=\"1\" class=\"dataframe\">\n",
       "  <thead>\n",
       "    <tr style=\"text-align: right;\">\n",
       "      <th></th>\n",
       "      <th>col1</th>\n",
       "      <th>col2</th>\n",
       "      <th>col3</th>\n",
       "      <th>col4</th>\n",
       "    </tr>\n",
       "  </thead>\n",
       "  <tbody>\n",
       "    <tr>\n",
       "      <th>0</th>\n",
       "      <td>1</td>\n",
       "      <td>10</td>\n",
       "      <td>4</td>\n",
       "      <td>40</td>\n",
       "    </tr>\n",
       "    <tr>\n",
       "      <th>1</th>\n",
       "      <td>2</td>\n",
       "      <td>20</td>\n",
       "      <td>5</td>\n",
       "      <td>50</td>\n",
       "    </tr>\n",
       "    <tr>\n",
       "      <th>2</th>\n",
       "      <td>3</td>\n",
       "      <td>30</td>\n",
       "      <td>6</td>\n",
       "      <td>60</td>\n",
       "    </tr>\n",
       "  </tbody>\n",
       "</table>\n",
       "</div>"
      ],
      "text/plain": [
       "   col1  col2  col3  col4\n",
       "0     1    10     4    40\n",
       "1     2    20     5    50\n",
       "2     3    30     6    60"
      ]
     },
     "execution_count": 71,
     "metadata": {},
     "output_type": "execute_result"
    }
   ],
   "source": [
    "df = pd.merge(df1, df2, left_index=True, right_index=True)\n",
    "df"
   ]
  }
 ],
 "metadata": {
  "kernelspec": {
   "display_name": "Python 3 (ipykernel)",
   "language": "python",
   "name": "python3"
  },
  "language_info": {
   "codemirror_mode": {
    "name": "ipython",
    "version": 3
   },
   "file_extension": ".py",
   "mimetype": "text/x-python",
   "name": "python",
   "nbconvert_exporter": "python",
   "pygments_lexer": "ipython3",
   "version": "3.9.7"
  }
 },
 "nbformat": 4,
 "nbformat_minor": 5
}
